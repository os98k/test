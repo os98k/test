{
 "cells": [
  {
   "cell_type": "code",
   "execution_count": 1,
   "id": "7a2407c1",
   "metadata": {
    "_cell_guid": "b1076dfc-b9ad-4769-8c92-a6c4dae69d19",
    "_uuid": "8f2839f25d086af736a60e9eeb907d3b93b6e0e5",
    "execution": {
     "iopub.execute_input": "2021-12-24T04:18:48.533815Z",
     "iopub.status.busy": "2021-12-24T04:18:48.532704Z",
     "iopub.status.idle": "2021-12-24T04:18:48.554815Z",
     "shell.execute_reply": "2021-12-24T04:18:48.555346Z",
     "shell.execute_reply.started": "2021-12-24T04:17:26.686798Z"
    },
    "papermill": {
     "duration": 0.085082,
     "end_time": "2021-12-24T04:18:48.555644",
     "exception": false,
     "start_time": "2021-12-24T04:18:48.470562",
     "status": "completed"
    },
    "tags": []
   },
   "outputs": [
    {
     "name": "stdout",
     "output_type": "stream",
     "text": [
      "/kaggle/input/joiningdatawithpandas/SP500.csv\n",
      "/kaggle/input/joiningdatawithpandas/zip_demo.p\n",
      "/kaggle/input/joiningdatawithpandas/ward.p\n",
      "/kaggle/input/joiningdatawithpandas/WorldBank_POP.csv\n",
      "/kaggle/input/joiningdatawithpandas/taxi_owners.p\n",
      "/kaggle/input/joiningdatawithpandas/movies.p\n",
      "/kaggle/input/joiningdatawithpandas/ratings.p\n",
      "/kaggle/input/joiningdatawithpandas/actors_movies.csv\n",
      "/kaggle/input/joiningdatawithpandas/sequels.p\n",
      "/kaggle/input/joiningdatawithpandas/business_owners.p\n",
      "/kaggle/input/joiningdatawithpandas/stations.p\n",
      "/kaggle/input/joiningdatawithpandas/licenses.p\n",
      "/kaggle/input/joiningdatawithpandas/taglines.p\n",
      "/kaggle/input/joiningdatawithpandas/cta_calendar.p\n",
      "/kaggle/input/joiningdatawithpandas/WorldBank_GDP.csv\n",
      "/kaggle/input/joiningdatawithpandas/crews.p\n",
      "/kaggle/input/joiningdatawithpandas/census.p\n",
      "/kaggle/input/joiningdatawithpandas/JoiningDataWithPandas.ipynb\n",
      "/kaggle/input/joiningdatawithpandas/cta_ridership.p\n",
      "/kaggle/input/joiningdatawithpandas/financials.p\n",
      "/kaggle/input/joiningdatawithpandas/casts.p\n",
      "/kaggle/input/joiningdatawithpandas/land_use.p\n",
      "/kaggle/input/joiningdatawithpandas/movie_to_genres.p\n",
      "/kaggle/input/joiningdatawithpandas/taxi_vehicles.p\n"
     ]
    }
   ],
   "source": [
    "# This Python 3 environment comes with many helpful analytics libraries installed\n",
    "# It is defined by the kaggle/python Docker image: https://github.com/kaggle/docker-python\n",
    "# For example, here's several helpful packages to load\n",
    "\n",
    "import numpy as np # linear algebra\n",
    "import pandas as pd # data processing, CSV file I/O (e.g. pd.read_csv)\n",
    "\n",
    "# Input data files are available in the read-only \"../input/\" directory\n",
    "# For example, running this (by clicking run or pressing Shift+Enter) will list all files under the input directory\n",
    "\n",
    "import os\n",
    "for dirname, _, filenames in os.walk('/kaggle/input'):\n",
    "    for filename in filenames:\n",
    "        print(os.path.join(dirname, filename))\n",
    "\n",
    "# You can write up to 20GB to the current directory (/kaggle/working/) that gets preserved as output when you create a version using \"Save & Run All\" \n",
    "# You can also write temporary files to /kaggle/temp/, but they won't be saved outside of the current session"
   ]
  },
  {
   "cell_type": "markdown",
   "id": "d3dd39b3",
   "metadata": {
    "papermill": {
     "duration": 0.054375,
     "end_time": "2021-12-24T04:18:48.668281",
     "exception": false,
     "start_time": "2021-12-24T04:18:48.613906",
     "status": "completed"
    },
    "tags": []
   },
   "source": [
    "# **Overview:** This is part of my learning journy for datascience track of # **Datacamp**. All datasets, code flows & explanations are part of their learning path. I am just using it here for my future reference & showcasing my skills"
   ]
  },
  {
   "cell_type": "code",
   "execution_count": 2,
   "id": "66eda9c6",
   "metadata": {
    "execution": {
     "iopub.execute_input": "2021-12-24T04:18:48.780355Z",
     "iopub.status.busy": "2021-12-24T04:18:48.779769Z",
     "iopub.status.idle": "2021-12-24T04:18:48.806749Z",
     "shell.execute_reply": "2021-12-24T04:18:48.807454Z",
     "shell.execute_reply.started": "2021-12-24T04:17:26.740403Z"
    },
    "papermill": {
     "duration": 0.085279,
     "end_time": "2021-12-24T04:18:48.807687",
     "exception": false,
     "start_time": "2021-12-24T04:18:48.722408",
     "status": "completed"
    },
    "tags": []
   },
   "outputs": [
    {
     "name": "stdout",
     "output_type": "stream",
     "text": [
      "     rid   vid           owner                 address    zip\n",
      "0  T6285  6285  AGEAN TAXI LLC     4536 N. ELSTON AVE.  60630\n",
      "1  T4862  4862    MANGIB CORP.  5717 N. WASHTENAW AVE.  60659\n",
      "2  T1495  1495   FUNRIDE, INC.     3351 W. ADDISON ST.  60618\n",
      "3  T4231  4231    ALQUSH CORP.   6611 N. CAMPBELL AVE.  60645\n",
      "4  T5971  5971  EUNIFFORD INC.     3351 W. ADDISON ST.  60618\n",
      "(3519, 5)\n"
     ]
    }
   ],
   "source": [
    "taxi_owners=pd.read_pickle(r'../input/joiningdatawithpandas/taxi_owners.p')\n",
    "taxi_owners\n",
    "print(taxi_owners.head())\n",
    "print(taxi_owners.shape)"
   ]
  },
  {
   "cell_type": "code",
   "execution_count": 3,
   "id": "4bbdbfad",
   "metadata": {
    "execution": {
     "iopub.execute_input": "2021-12-24T04:18:48.921154Z",
     "iopub.status.busy": "2021-12-24T04:18:48.920499Z",
     "iopub.status.idle": "2021-12-24T04:18:48.935198Z",
     "shell.execute_reply": "2021-12-24T04:18:48.935650Z",
     "shell.execute_reply.started": "2021-12-24T04:17:26.788207Z"
    },
    "papermill": {
     "duration": 0.072077,
     "end_time": "2021-12-24T04:18:48.935809",
     "exception": false,
     "start_time": "2021-12-24T04:18:48.863732",
     "status": "completed"
    },
    "tags": []
   },
   "outputs": [
    {
     "name": "stdout",
     "output_type": "stream",
     "text": [
      "    vid    make   model  year fuel_type                owner\n",
      "0  2767  TOYOTA   CAMRY  2013    HYBRID       SEYED M. BADRI\n",
      "1  1411  TOYOTA    RAV4  2017    HYBRID          DESZY CORP.\n",
      "2  6500  NISSAN  SENTRA  2019  GASOLINE       AGAPH CAB CORP\n",
      "3  2746  TOYOTA   CAMRY  2013    HYBRID  MIDWEST CAB CO, INC\n",
      "4  5922  TOYOTA   CAMRY  2013    HYBRID       SUMETTI CAB CO\n",
      "(3519, 6)\n"
     ]
    }
   ],
   "source": [
    "taxi_veh=pd.read_pickle(r'../input/joiningdatawithpandas/taxi_vehicles.p')\n",
    "taxi_veh\n",
    "print(taxi_veh.head())\n",
    "print(taxi_veh.shape)"
   ]
  },
  {
   "cell_type": "markdown",
   "id": "76898607",
   "metadata": {
    "papermill": {
     "duration": 0.054244,
     "end_time": "2021-12-24T04:18:49.045960",
     "exception": false,
     "start_time": "2021-12-24T04:18:48.991716",
     "status": "completed"
    },
    "tags": []
   },
   "source": [
    "# **Merge**"
   ]
  },
  {
   "cell_type": "code",
   "execution_count": 4,
   "id": "628d250d",
   "metadata": {
    "execution": {
     "iopub.execute_input": "2021-12-24T04:18:49.193085Z",
     "iopub.status.busy": "2021-12-24T04:18:49.192434Z",
     "iopub.status.idle": "2021-12-24T04:18:49.220329Z",
     "shell.execute_reply": "2021-12-24T04:18:49.219821Z",
     "shell.execute_reply.started": "2021-12-24T04:17:26.843444Z"
    },
    "papermill": {
     "duration": 0.100119,
     "end_time": "2021-12-24T04:18:49.220470",
     "exception": false,
     "start_time": "2021-12-24T04:18:49.120351",
     "status": "completed"
    },
    "tags": []
   },
   "outputs": [
    {
     "name": "stdout",
     "output_type": "stream",
     "text": [
      "Index(['rid', 'vid', 'owner_x', 'address', 'zip', 'make', 'model', 'year',\n",
      "       'fuel_type', 'owner_y'],\n",
      "      dtype='object')\n",
      "     rid   vid         owner_x                 address    zip    make   model  \\\n",
      "0  T6285  6285  AGEAN TAXI LLC     4536 N. ELSTON AVE.  60630  NISSAN  ALTIMA   \n",
      "1  T4862  4862    MANGIB CORP.  5717 N. WASHTENAW AVE.  60659   HONDA     CRV   \n",
      "2  T1495  1495   FUNRIDE, INC.     3351 W. ADDISON ST.  60618  TOYOTA  SIENNA   \n",
      "3  T4231  4231    ALQUSH CORP.   6611 N. CAMPBELL AVE.  60645  TOYOTA   CAMRY   \n",
      "4  T5971  5971  EUNIFFORD INC.     3351 W. ADDISON ST.  60618  TOYOTA  SIENNA   \n",
      "\n",
      "   year fuel_type         owner_y  \n",
      "0  2011    HYBRID  AGEAN TAXI LLC  \n",
      "1  2014  GASOLINE    MANGIB CORP.  \n",
      "2  2015  GASOLINE   FUNRIDE, INC.  \n",
      "3  2014    HYBRID    ALQUSH CORP.  \n",
      "4  2015  GASOLINE  EUNIFFORD INC.  \n"
     ]
    }
   ],
   "source": [
    "# Merge the taxi_owners and taxi_veh tables\n",
    "taxi_own_veh = taxi_owners.merge(taxi_veh,on='vid')\n",
    "\n",
    "# Print the column names of the taxi_own_veh\n",
    "print(taxi_own_veh.columns)\n",
    "print(taxi_own_veh.head())"
   ]
  },
  {
   "cell_type": "code",
   "execution_count": 5,
   "id": "bc39fef6",
   "metadata": {
    "execution": {
     "iopub.execute_input": "2021-12-24T04:18:49.333167Z",
     "iopub.status.busy": "2021-12-24T04:18:49.332572Z",
     "iopub.status.idle": "2021-12-24T04:18:49.343287Z",
     "shell.execute_reply": "2021-12-24T04:18:49.342733Z",
     "shell.execute_reply.started": "2021-12-24T04:17:26.879605Z"
    },
    "papermill": {
     "duration": 0.068165,
     "end_time": "2021-12-24T04:18:49.343429",
     "exception": false,
     "start_time": "2021-12-24T04:18:49.275264",
     "status": "completed"
    },
    "tags": []
   },
   "outputs": [
    {
     "name": "stdout",
     "output_type": "stream",
     "text": [
      "Index(['rid', 'vid', 'owner_own', 'address', 'zip', 'make', 'model', 'year',\n",
      "       'fuel_type', 'owner_veh'],\n",
      "      dtype='object')\n"
     ]
    }
   ],
   "source": [
    "# Merge the taxi_owners and taxi_veh tables setting a suffix\n",
    "taxi_own_veh = taxi_owners.merge(taxi_veh, on='vid', suffixes=('_own','_veh'))\n",
    "\n",
    "# Print the column names of taxi_own_veh\n",
    "print(taxi_own_veh.columns)"
   ]
  },
  {
   "cell_type": "code",
   "execution_count": 6,
   "id": "ebc10e2b",
   "metadata": {
    "execution": {
     "iopub.execute_input": "2021-12-24T04:18:49.459546Z",
     "iopub.status.busy": "2021-12-24T04:18:49.458907Z",
     "iopub.status.idle": "2021-12-24T04:18:49.464848Z",
     "shell.execute_reply": "2021-12-24T04:18:49.464040Z",
     "shell.execute_reply.started": "2021-12-24T04:17:26.893927Z"
    },
    "papermill": {
     "duration": 0.066669,
     "end_time": "2021-12-24T04:18:49.465099",
     "exception": false,
     "start_time": "2021-12-24T04:18:49.398430",
     "status": "completed"
    },
    "tags": []
   },
   "outputs": [
    {
     "name": "stdout",
     "output_type": "stream",
     "text": [
      "HYBRID                    2792\n",
      "GASOLINE                   611\n",
      "FLEX FUEL                   89\n",
      "COMPRESSED NATURAL GAS      27\n",
      "Name: fuel_type, dtype: int64\n"
     ]
    }
   ],
   "source": [
    "# Print the value_counts to find the most popular fuel_type\n",
    "print(taxi_own_veh['fuel_type'].value_counts())"
   ]
  },
  {
   "cell_type": "code",
   "execution_count": 7,
   "id": "4f645679",
   "metadata": {
    "execution": {
     "iopub.execute_input": "2021-12-24T04:18:49.584561Z",
     "iopub.status.busy": "2021-12-24T04:18:49.583805Z",
     "iopub.status.idle": "2021-12-24T04:18:49.594347Z",
     "shell.execute_reply": "2021-12-24T04:18:49.594981Z",
     "shell.execute_reply.started": "2021-12-24T04:17:26.905192Z"
    },
    "papermill": {
     "duration": 0.07272,
     "end_time": "2021-12-24T04:18:49.595237",
     "exception": false,
     "start_time": "2021-12-24T04:18:49.522517",
     "status": "completed"
    },
    "tags": []
   },
   "outputs": [
    {
     "name": "stdout",
     "output_type": "stream",
     "text": [
      "  ward            alderman                          address    zip\n",
      "0    1  Proco \"Joe\" Moreno        2058 NORTH WESTERN AVENUE  60647\n",
      "1    2       Brian Hopkins       1400 NORTH  ASHLAND AVENUE  60622\n",
      "2    3          Pat Dowell          5046 SOUTH STATE STREET  60609\n",
      "3    4    William D. Burns  435 EAST 35TH STREET, 1ST FLOOR  60616\n",
      "4    5  Leslie A. Hairston            2325 EAST 71ST STREET  60649\n",
      "(50, 4)\n"
     ]
    }
   ],
   "source": [
    "wards=pd.read_pickle(r'../input/joiningdatawithpandas/ward.p')\n",
    "print(wards.head())\n",
    "print(wards.shape)"
   ]
  },
  {
   "cell_type": "code",
   "execution_count": 8,
   "id": "67712f5d",
   "metadata": {
    "execution": {
     "iopub.execute_input": "2021-12-24T04:18:49.711689Z",
     "iopub.status.busy": "2021-12-24T04:18:49.711100Z",
     "iopub.status.idle": "2021-12-24T04:18:49.720957Z",
     "shell.execute_reply": "2021-12-24T04:18:49.720449Z",
     "shell.execute_reply.started": "2021-12-24T04:17:26.923007Z"
    },
    "papermill": {
     "duration": 0.069553,
     "end_time": "2021-12-24T04:18:49.721124",
     "exception": false,
     "start_time": "2021-12-24T04:18:49.651571",
     "status": "completed"
    },
    "tags": []
   },
   "outputs": [
    {
     "name": "stdout",
     "output_type": "stream",
     "text": [
      "  ward  pop_2000  pop_2010 change                                  address  \\\n",
      "0    1     52951     56149     6%              2765 WEST SAINT MARY STREET   \n",
      "1    2     54361     55805     3%                 WM WASTE MANAGEMENT 1500   \n",
      "2    3     40385     53039    31%                      17 EAST 38TH STREET   \n",
      "3    4     51953     54589     5%  31ST ST HARBOR BUILDING LAKEFRONT TRAIL   \n",
      "4    5     55302     51455    -7%  JACKSON PARK LAGOON SOUTH CORNELL DRIVE   \n",
      "\n",
      "     zip  \n",
      "0  60647  \n",
      "1  60622  \n",
      "2  60653  \n",
      "3  60653  \n",
      "4  60637  \n",
      "(50, 6)\n"
     ]
    }
   ],
   "source": [
    "census=pd.read_pickle(r'../input/joiningdatawithpandas/census.p')\n",
    "print(census.head())\n",
    "print(census.shape)"
   ]
  },
  {
   "cell_type": "code",
   "execution_count": 9,
   "id": "e8d90880",
   "metadata": {
    "execution": {
     "iopub.execute_input": "2021-12-24T04:18:49.839109Z",
     "iopub.status.busy": "2021-12-24T04:18:49.838431Z",
     "iopub.status.idle": "2021-12-24T04:18:49.846802Z",
     "shell.execute_reply": "2021-12-24T04:18:49.846341Z",
     "shell.execute_reply.started": "2021-12-24T04:17:26.939456Z"
    },
    "papermill": {
     "duration": 0.069302,
     "end_time": "2021-12-24T04:18:49.846936",
     "exception": false,
     "start_time": "2021-12-24T04:18:49.777634",
     "status": "completed"
    },
    "tags": []
   },
   "outputs": [
    {
     "name": "stdout",
     "output_type": "stream",
     "text": [
      "wards_census table shape: (50, 9)\n"
     ]
    }
   ],
   "source": [
    "# Merge the wards and census tables on the ward column\n",
    "wards_census = wards.merge(census,on='ward')\n",
    "\n",
    "# Print the shape of wards_census\n",
    "print('wards_census table shape:', wards_census.shape)"
   ]
  },
  {
   "cell_type": "code",
   "execution_count": 10,
   "id": "bcbab17b",
   "metadata": {
    "execution": {
     "iopub.execute_input": "2021-12-24T04:18:49.963802Z",
     "iopub.status.busy": "2021-12-24T04:18:49.963224Z",
     "iopub.status.idle": "2021-12-24T04:18:50.001402Z",
     "shell.execute_reply": "2021-12-24T04:18:50.001905Z",
     "shell.execute_reply.started": "2021-12-24T04:17:26.948252Z"
    },
    "papermill": {
     "duration": 0.098616,
     "end_time": "2021-12-24T04:18:50.002105",
     "exception": false,
     "start_time": "2021-12-24T04:18:49.903489",
     "status": "completed"
    },
    "tags": []
   },
   "outputs": [
    {
     "name": "stdout",
     "output_type": "stream",
     "text": [
      "  account ward  aid                   business               address    zip\n",
      "0  307071    3  743       REGGIE'S BAR & GRILL       2105 S STATE ST  60616\n",
      "1      10   10  829                 HONEYBEERS   13200 S HOUSTON AVE  60633\n",
      "2   10002   14  775                CELINA DELI     5089 S ARCHER AVE  60632\n",
      "3   10005   12  NaN  KRAFT FOODS NORTH AMERICA        2005 W 43RD ST  60609\n",
      "4   10044   44  638  NEYBOUR'S TAVERN & GRILLE  3651 N SOUTHPORT AVE  60613\n",
      "(10000, 6)\n"
     ]
    }
   ],
   "source": [
    "licenses=pd.read_pickle(r'../input/joiningdatawithpandas/licenses.p')\n",
    "print(licenses.head())\n",
    "print(licenses.shape)"
   ]
  },
  {
   "cell_type": "code",
   "execution_count": 11,
   "id": "4acd7571",
   "metadata": {
    "execution": {
     "iopub.execute_input": "2021-12-24T04:18:50.121541Z",
     "iopub.status.busy": "2021-12-24T04:18:50.120921Z",
     "iopub.status.idle": "2021-12-24T04:18:50.154552Z",
     "shell.execute_reply": "2021-12-24T04:18:50.154998Z",
     "shell.execute_reply.started": "2021-12-24T04:17:26.998160Z"
    },
    "papermill": {
     "duration": 0.094006,
     "end_time": "2021-12-24T04:18:50.155222",
     "exception": false,
     "start_time": "2021-12-24T04:18:50.061216",
     "status": "completed"
    },
    "tags": []
   },
   "outputs": [
    {
     "name": "stdout",
     "output_type": "stream",
     "text": [
      "  account first_name  last_name      title\n",
      "0      10      PEARL    SHERMAN  PRESIDENT\n",
      "1      10      PEARL    SHERMAN  SECRETARY\n",
      "2   10002     WALTER     MROZEK    PARTNER\n",
      "3   10002     CELINA     BYRDAK    PARTNER\n",
      "4   10005      IRENE  ROSENFELD  PRESIDENT\n",
      "(21352, 4)\n"
     ]
    }
   ],
   "source": [
    "biz_owners=pd.read_pickle(r'../input/joiningdatawithpandas/business_owners.p')\n",
    "print(biz_owners.head())\n",
    "print(biz_owners.shape)"
   ]
  },
  {
   "cell_type": "code",
   "execution_count": 12,
   "id": "2356c705",
   "metadata": {
    "execution": {
     "iopub.execute_input": "2021-12-24T04:18:50.272114Z",
     "iopub.status.busy": "2021-12-24T04:18:50.271486Z",
     "iopub.status.idle": "2021-12-24T04:18:50.294523Z",
     "shell.execute_reply": "2021-12-24T04:18:50.295071Z",
     "shell.execute_reply.started": "2021-12-24T04:17:27.033314Z"
    },
    "papermill": {
     "duration": 0.083012,
     "end_time": "2021-12-24T04:18:50.295250",
     "exception": false,
     "start_time": "2021-12-24T04:18:50.212238",
     "status": "completed"
    },
    "tags": []
   },
   "outputs": [
    {
     "name": "stdout",
     "output_type": "stream",
     "text": [
      "                 account\n",
      "title                   \n",
      "PRESIDENT           6259\n",
      "SECRETARY           5205\n",
      "SOLE PROPRIETOR     1658\n",
      "OTHER               1200\n",
      "VICE PRESIDENT       970\n"
     ]
    }
   ],
   "source": [
    "# Merge the licenses and biz_owners table on account\n",
    "licenses_owners = licenses.merge(biz_owners,on ='account')\n",
    "\n",
    "# Group the results by title then count the number of accounts\n",
    "counted_df = licenses_owners.groupby('title').agg({'account':'count'})\n",
    "\n",
    "# Sort the counted_df in desending order\n",
    "sorted_df = counted_df.sort_values('account',ascending=False)\n",
    "\n",
    "# Use .head() method to print the first few rows of sorted_df\n",
    "print(sorted_df.head())"
   ]
  },
  {
   "cell_type": "code",
   "execution_count": 13,
   "id": "40b5fd16",
   "metadata": {
    "execution": {
     "iopub.execute_input": "2021-12-24T04:18:50.415273Z",
     "iopub.status.busy": "2021-12-24T04:18:50.414668Z",
     "iopub.status.idle": "2021-12-24T04:18:50.428091Z",
     "shell.execute_reply": "2021-12-24T04:18:50.428753Z",
     "shell.execute_reply.started": "2021-12-24T04:17:27.066589Z"
    },
    "papermill": {
     "duration": 0.074851,
     "end_time": "2021-12-24T04:18:50.429191",
     "exception": false,
     "start_time": "2021-12-24T04:18:50.354340",
     "status": "completed"
    },
    "tags": []
   },
   "outputs": [
    {
     "name": "stdout",
     "output_type": "stream",
     "text": [
      "  station_id  year  month  day  rides\n",
      "0      40010  2019      1    1    576\n",
      "1      40010  2019      1    2   1457\n",
      "2      40010  2019      1    3   1543\n",
      "3      40010  2019      1    4   1621\n",
      "4      40010  2019      1    5    719\n",
      "(3285, 5)\n"
     ]
    }
   ],
   "source": [
    "ridership=pd.read_pickle(r'../input/joiningdatawithpandas/cta_ridership.p')\n",
    "print(ridership.head())\n",
    "print(ridership.shape)"
   ]
  },
  {
   "cell_type": "code",
   "execution_count": 14,
   "id": "a5ea6660",
   "metadata": {
    "execution": {
     "iopub.execute_input": "2021-12-24T04:18:50.547940Z",
     "iopub.status.busy": "2021-12-24T04:18:50.547360Z",
     "iopub.status.idle": "2021-12-24T04:18:50.559525Z",
     "shell.execute_reply": "2021-12-24T04:18:50.558820Z",
     "shell.execute_reply.started": "2021-12-24T04:17:27.083054Z"
    },
    "papermill": {
     "duration": 0.071857,
     "end_time": "2021-12-24T04:18:50.559728",
     "exception": false,
     "start_time": "2021-12-24T04:18:50.487871",
     "status": "completed"
    },
    "tags": []
   },
   "outputs": [
    {
     "name": "stdout",
     "output_type": "stream",
     "text": [
      "   year  month  day        day_type\n",
      "0  2019      1    1  Sunday/Holiday\n",
      "1  2019      1    2         Weekday\n",
      "2  2019      1    3         Weekday\n",
      "3  2019      1    4         Weekday\n",
      "4  2019      1    5        Saturday\n",
      "(365, 4)\n"
     ]
    }
   ],
   "source": [
    "cal=pd.read_pickle(r'../input/joiningdatawithpandas/cta_calendar.p')\n",
    "print(cal.head())\n",
    "print(cal.shape)"
   ]
  },
  {
   "cell_type": "code",
   "execution_count": 15,
   "id": "61b3a693",
   "metadata": {
    "execution": {
     "iopub.execute_input": "2021-12-24T04:18:50.677860Z",
     "iopub.status.busy": "2021-12-24T04:18:50.677265Z",
     "iopub.status.idle": "2021-12-24T04:18:50.688182Z",
     "shell.execute_reply": "2021-12-24T04:18:50.688944Z",
     "shell.execute_reply.started": "2021-12-24T04:17:27.098880Z"
    },
    "papermill": {
     "duration": 0.071372,
     "end_time": "2021-12-24T04:18:50.689249",
     "exception": false,
     "start_time": "2021-12-24T04:18:50.617877",
     "status": "completed"
    },
    "tags": []
   },
   "outputs": [
    {
     "name": "stdout",
     "output_type": "stream",
     "text": [
      "  station_id        station_name                 location\n",
      "0      40010  Austin-Forest Park  (41.870851, -87.776812)\n",
      "1      40020         Harlem-Lake  (41.886848, -87.803176)\n",
      "2      40030        Pulaski-Lake  (41.885412, -87.725404)\n",
      "3      40040        Quincy/Wells   (41.878723, -87.63374)\n",
      "4      40050               Davis   (42.04771, -87.683543)\n",
      "(144, 3)\n"
     ]
    }
   ],
   "source": [
    "stations=pd.read_pickle(r'../input/joiningdatawithpandas/stations.p')\n",
    "print(stations.head())\n",
    "print(stations.shape)"
   ]
  },
  {
   "cell_type": "code",
   "execution_count": 16,
   "id": "3cc8a161",
   "metadata": {
    "execution": {
     "iopub.execute_input": "2021-12-24T04:18:50.809675Z",
     "iopub.status.busy": "2021-12-24T04:18:50.808975Z",
     "iopub.status.idle": "2021-12-24T04:18:50.816515Z",
     "shell.execute_reply": "2021-12-24T04:18:50.817023Z",
     "shell.execute_reply.started": "2021-12-24T04:17:27.113500Z"
    },
    "papermill": {
     "duration": 0.068354,
     "end_time": "2021-12-24T04:18:50.817210",
     "exception": false,
     "start_time": "2021-12-24T04:18:50.748856",
     "status": "completed"
    },
    "tags": []
   },
   "outputs": [],
   "source": [
    "# Merge the ridership and cal tables\n",
    "ridership_cal = ridership.merge(cal, on=['year','month','day'])"
   ]
  },
  {
   "cell_type": "code",
   "execution_count": 17,
   "id": "90117f0e",
   "metadata": {
    "execution": {
     "iopub.execute_input": "2021-12-24T04:18:50.936164Z",
     "iopub.status.busy": "2021-12-24T04:18:50.935513Z",
     "iopub.status.idle": "2021-12-24T04:18:50.946219Z",
     "shell.execute_reply": "2021-12-24T04:18:50.945569Z",
     "shell.execute_reply.started": "2021-12-24T04:17:27.124511Z"
    },
    "papermill": {
     "duration": 0.071315,
     "end_time": "2021-12-24T04:18:50.946353",
     "exception": false,
     "start_time": "2021-12-24T04:18:50.875038",
     "status": "completed"
    },
    "tags": []
   },
   "outputs": [],
   "source": [
    "# Merge the ridership, cal, and stations tables\n",
    "ridership_cal_stations = ridership.merge(cal, on=['year','month','day']) \\\n",
    "            \t\t\t\t.merge(stations, on='station_id')"
   ]
  },
  {
   "cell_type": "markdown",
   "id": "d1a8e656",
   "metadata": {
    "papermill": {
     "duration": 0.058293,
     "end_time": "2021-12-24T04:18:51.064253",
     "exception": false,
     "start_time": "2021-12-24T04:18:51.005960",
     "status": "completed"
    },
    "tags": []
   },
   "source": [
    "# **Criteria filtering**"
   ]
  },
  {
   "cell_type": "code",
   "execution_count": 18,
   "id": "a58481e4",
   "metadata": {
    "execution": {
     "iopub.execute_input": "2021-12-24T04:18:51.184001Z",
     "iopub.status.busy": "2021-12-24T04:18:51.183399Z",
     "iopub.status.idle": "2021-12-24T04:18:51.191716Z",
     "shell.execute_reply": "2021-12-24T04:18:51.192442Z",
     "shell.execute_reply.started": "2021-12-24T04:17:27.136538Z"
    },
    "papermill": {
     "duration": 0.07024,
     "end_time": "2021-12-24T04:18:51.192736",
     "exception": false,
     "start_time": "2021-12-24T04:18:51.122496",
     "status": "completed"
    },
    "tags": []
   },
   "outputs": [
    {
     "name": "stdout",
     "output_type": "stream",
     "text": [
      "0\n"
     ]
    }
   ],
   "source": [
    "# Create a filter to filter ridership_cal_stations\n",
    "filter_criteria = ((ridership_cal_stations['month'] == '7') \n",
    "                   & (ridership_cal_stations['day_type'] == 'Weekday') \n",
    "                   & (ridership_cal_stations['station_name'] == 'Wilson'))\n",
    "\n",
    "# Use .loc and the filter to select for rides\n",
    "print(ridership_cal_stations.loc[filter_criteria, 'rides'].sum())"
   ]
  },
  {
   "cell_type": "code",
   "execution_count": 19,
   "id": "97ea9a07",
   "metadata": {
    "execution": {
     "iopub.execute_input": "2021-12-24T04:18:51.316593Z",
     "iopub.status.busy": "2021-12-24T04:18:51.316000Z",
     "iopub.status.idle": "2021-12-24T04:18:51.319960Z",
     "shell.execute_reply": "2021-12-24T04:18:51.319488Z",
     "shell.execute_reply.started": "2021-12-24T04:17:27.147010Z"
    },
    "papermill": {
     "duration": 0.068675,
     "end_time": "2021-12-24T04:18:51.320125",
     "exception": false,
     "start_time": "2021-12-24T04:18:51.251450",
     "status": "completed"
    },
    "tags": []
   },
   "outputs": [
    {
     "name": "stdout",
     "output_type": "stream",
     "text": [
      "140005\n"
     ]
    }
   ],
   "source": [
    "# Create a filter to filter ridership_cal_stations\n",
    "filter_criteria = ((ridership_cal_stations['month'] == 7) \n",
    "                   & (ridership_cal_stations['day_type'] == 'Weekday') \n",
    "                   & (ridership_cal_stations['station_name'] == 'Wilson'))\n",
    "\n",
    "# Use .loc and the filter to select for rides\n",
    "print(ridership_cal_stations.loc[filter_criteria, 'rides'].sum())"
   ]
  },
  {
   "cell_type": "code",
   "execution_count": 20,
   "id": "a2e5de2d",
   "metadata": {
    "execution": {
     "iopub.execute_input": "2021-12-24T04:18:51.439005Z",
     "iopub.status.busy": "2021-12-24T04:18:51.438354Z",
     "iopub.status.idle": "2021-12-24T04:18:51.448992Z",
     "shell.execute_reply": "2021-12-24T04:18:51.449858Z",
     "shell.execute_reply.started": "2021-12-24T04:17:27.160711Z"
    },
    "papermill": {
     "duration": 0.072168,
     "end_time": "2021-12-24T04:18:51.450129",
     "exception": false,
     "start_time": "2021-12-24T04:18:51.377961",
     "status": "completed"
    },
    "tags": []
   },
   "outputs": [
    {
     "name": "stdout",
     "output_type": "stream",
     "text": [
      "     zip  income\n",
      "0  60630   70122\n",
      "1  60640   50488\n",
      "2  60622   87143\n",
      "3  60614  100116\n",
      "4  60608   41226\n",
      "(66, 2)\n"
     ]
    }
   ],
   "source": [
    "zip_demo=pd.read_pickle(r'../input/joiningdatawithpandas/zip_demo.p')\n",
    "print(zip_demo.head())\n",
    "print(zip_demo.shape)"
   ]
  },
  {
   "cell_type": "code",
   "execution_count": 21,
   "id": "d759c4be",
   "metadata": {
    "execution": {
     "iopub.execute_input": "2021-12-24T04:18:51.575004Z",
     "iopub.status.busy": "2021-12-24T04:18:51.574401Z",
     "iopub.status.idle": "2021-12-24T04:18:51.594723Z",
     "shell.execute_reply": "2021-12-24T04:18:51.595169Z",
     "shell.execute_reply.started": "2021-12-24T04:17:27.179873Z"
    },
    "papermill": {
     "duration": 0.085736,
     "end_time": "2021-12-24T04:18:51.595347",
     "exception": false,
     "start_time": "2021-12-24T04:18:51.509611",
     "status": "completed"
    },
    "tags": []
   },
   "outputs": [
    {
     "name": "stdout",
     "output_type": "stream",
     "text": [
      "                             income\n",
      "alderman                           \n",
      "Ameya Pawar                 66246.0\n",
      "Anthony A. Beale            38206.0\n",
      "Anthony V. Napolitano       82226.0\n",
      "Ariel E. Reyboras           41307.0\n",
      "Brendan Reilly             110215.0\n",
      "Brian Hopkins               87143.0\n",
      "Carlos Ramirez-Rosa         66246.0\n",
      "Carrie M. Austin            38206.0\n",
      "Chris Taliaferro            55566.0\n",
      "Daniel \"Danny\" Solis        41226.0\n",
      "David H. Moore              33304.0\n",
      "Deborah Mell                66246.0\n",
      "Debra L. Silverstein        50554.0\n",
      "Derrick G. Curtis           65770.0\n",
      "Edward M. Burke             42335.0\n",
      "Emma M. Mitts               36283.0\n",
      "George Cardenas             33959.0\n",
      "Gilbert Villegas            41307.0\n",
      "Gregory I. Mitchell         24941.0\n",
      "Harry Osterman              45442.0\n",
      "Howard B. Brookins, Jr.     33304.0\n",
      "James Cappleman             79565.0\n",
      "Jason C. Ervin              41226.0\n",
      "Joe Moore                   39163.0\n",
      "John S. Arena               70122.0\n",
      "Leslie A. Hairston          28024.0\n",
      "Margaret Laurino            70122.0\n",
      "Marty Quinn                 67045.0\n",
      "Matthew J. O'Shea           59488.0\n",
      "Michael R. Zalewski         42335.0\n",
      "Michael Scott, Jr.          31445.0\n",
      "Michelle A. Harris          32558.0\n",
      "Michelle Smith             100116.0\n",
      "Milagros \"Milly\" Santiago   41307.0\n",
      "Nicholas Sposato            62223.0\n",
      "Pat Dowell                  46340.0\n",
      "Patrick Daley Thompson      41226.0\n",
      "Patrick J. O'Connor         50554.0\n",
      "Proco \"Joe\" Moreno          87143.0\n",
      "Raymond A. Lopez            33959.0\n",
      "Ricardo Munoz               31445.0\n",
      "Roberto Maldonado           68223.0\n",
      "Roderick T. Sawyer          32558.0\n",
      "Scott Waguespack            68223.0\n",
      "Susan Sadlowski Garza       38417.0\n",
      "Tom Tunney                  88708.0\n",
      "Toni L. Foulkes             27573.0\n",
      "Walter Burnett, Jr.         87143.0\n",
      "William D. Burns           107811.0\n",
      "Willie B. Cochran           28024.0\n"
     ]
    }
   ],
   "source": [
    "# Merge licenses and zip_demo, on zip; and merge the wards on ward\n",
    "licenses_zip_ward = licenses.merge(zip_demo,on='zip') \\\n",
    "            \t\t\t.merge(wards, on='ward')\n",
    "\n",
    "# Print the results by alderman and show median income\n",
    "print(licenses_zip_ward.groupby('alderman').agg({'income':'median'}))"
   ]
  },
  {
   "cell_type": "code",
   "execution_count": 22,
   "id": "9cb3cc3f",
   "metadata": {
    "execution": {
     "iopub.execute_input": "2021-12-24T04:18:51.717890Z",
     "iopub.status.busy": "2021-12-24T04:18:51.716020Z",
     "iopub.status.idle": "2021-12-24T04:18:51.728295Z",
     "shell.execute_reply": "2021-12-24T04:18:51.728985Z",
     "shell.execute_reply.started": "2021-12-24T04:17:27.210099Z"
    },
    "papermill": {
     "duration": 0.074788,
     "end_time": "2021-12-24T04:18:51.729230",
     "exception": false,
     "start_time": "2021-12-24T04:18:51.654442",
     "status": "completed"
    },
    "tags": []
   },
   "outputs": [
    {
     "name": "stdout",
     "output_type": "stream",
     "text": [
      "  ward  residential  commercial  industrial  vacant  other\n",
      "0    1           41           9           2       2     46\n",
      "1    2           31          11           6       2     50\n",
      "2    3           20           5           3      13     59\n",
      "3    4           22          13           0       7     58\n",
      "4    5           25           3           1       3     68\n",
      "(50, 6)\n"
     ]
    }
   ],
   "source": [
    "land_use=pd.read_pickle(r'../input/joiningdatawithpandas/land_use.p')\n",
    "print(land_use.head())\n",
    "print(land_use.shape)"
   ]
  },
  {
   "cell_type": "code",
   "execution_count": 23,
   "id": "33e1be63",
   "metadata": {
    "execution": {
     "iopub.execute_input": "2021-12-24T04:18:51.855376Z",
     "iopub.status.busy": "2021-12-24T04:18:51.854780Z",
     "iopub.status.idle": "2021-12-24T04:18:51.877622Z",
     "shell.execute_reply": "2021-12-24T04:18:51.877041Z",
     "shell.execute_reply.started": "2021-12-24T04:17:27.224527Z"
    },
    "papermill": {
     "duration": 0.088498,
     "end_time": "2021-12-24T04:18:51.877762",
     "exception": false,
     "start_time": "2021-12-24T04:18:51.789264",
     "status": "completed"
    },
    "tags": []
   },
   "outputs": [
    {
     "name": "stdout",
     "output_type": "stream",
     "text": [
      "   ward  pop_2010  vacant  account\n",
      "47    7     51581      19       80\n",
      "12   20     52372      15      123\n",
      "1    10     51535      14      130\n",
      "16   24     54909      13       98\n",
      "7    16     51954      13      156\n"
     ]
    }
   ],
   "source": [
    "# Merge land_use and census and merge result with licenses including suffixes\n",
    "land_cen_lic = land_use.merge(census, on='ward') \\\n",
    "                .merge(licenses, on='ward', suffixes=('_cen','_lic'))\n",
    "# Group by ward, pop_2010, and vacant, then count the # of accounts\n",
    "pop_vac_lic = land_cen_lic.groupby(['ward','pop_2010','vacant'], \n",
    "                                   as_index=False).agg({'account':'count'})\n",
    "# Sort pop_vac_lic and print the results\n",
    "sorted_pop_vac_lic = pop_vac_lic.sort_values(['vacant','account','pop_2010'], \n",
    "                                             ascending=[False,True,True])\n",
    "\n",
    "# Print the top few rows of sorted_pop_vac_lic\n",
    "print(sorted_pop_vac_lic.head())"
   ]
  },
  {
   "cell_type": "code",
   "execution_count": 24,
   "id": "906ea9fd",
   "metadata": {
    "execution": {
     "iopub.execute_input": "2021-12-24T04:18:52.003444Z",
     "iopub.status.busy": "2021-12-24T04:18:52.002753Z",
     "iopub.status.idle": "2021-12-24T04:18:52.023537Z",
     "shell.execute_reply": "2021-12-24T04:18:52.024257Z",
     "shell.execute_reply.started": "2021-12-24T04:17:27.254881Z"
    },
    "papermill": {
     "duration": 0.086609,
     "end_time": "2021-12-24T04:18:52.024430",
     "exception": false,
     "start_time": "2021-12-24T04:18:51.937821",
     "status": "completed"
    },
    "tags": []
   },
   "outputs": [
    {
     "name": "stdout",
     "output_type": "stream",
     "text": [
      "      id                 title  popularity release_date\n",
      "0    257          Oliver Twist   20.415572   2005-09-23\n",
      "1  14290  Better Luck Tomorrow    3.877036   2002-01-12\n",
      "2  38365             Grown Ups   38.864027   2010-06-24\n",
      "3   9672              Infamous    3.680896   2006-11-16\n",
      "4  12819       Alpha and Omega   12.300789   2010-09-17\n",
      "(4803, 4)\n"
     ]
    }
   ],
   "source": [
    "movies=pd.read_pickle(r'../input/joiningdatawithpandas/movies.p')\n",
    "print(movies.head())\n",
    "print(movies.shape)"
   ]
  },
  {
   "cell_type": "code",
   "execution_count": 25,
   "id": "ed099835",
   "metadata": {
    "execution": {
     "iopub.execute_input": "2021-12-24T04:18:52.148985Z",
     "iopub.status.busy": "2021-12-24T04:18:52.148390Z",
     "iopub.status.idle": "2021-12-24T04:18:52.160958Z",
     "shell.execute_reply": "2021-12-24T04:18:52.161510Z",
     "shell.execute_reply.started": "2021-12-24T04:17:27.278024Z"
    },
    "papermill": {
     "duration": 0.075726,
     "end_time": "2021-12-24T04:18:52.161734",
     "exception": false,
     "start_time": "2021-12-24T04:18:52.086008",
     "status": "completed"
    },
    "tags": []
   },
   "outputs": [
    {
     "name": "stdout",
     "output_type": "stream",
     "text": [
      "       id     budget       revenue\n",
      "0   19995  237000000  2.787965e+09\n",
      "1     285  300000000  9.610000e+08\n",
      "2  206647  245000000  8.806746e+08\n",
      "3   49026  250000000  1.084939e+09\n",
      "4   49529  260000000  2.841391e+08\n",
      "(3229, 3)\n"
     ]
    }
   ],
   "source": [
    "financials=pd.read_pickle(r'../input/joiningdatawithpandas/financials.p')\n",
    "print(financials.head())\n",
    "print(financials.shape)"
   ]
  },
  {
   "cell_type": "markdown",
   "id": "4c2fcdb8",
   "metadata": {
    "papermill": {
     "duration": 0.059347,
     "end_time": "2021-12-24T04:18:52.282370",
     "exception": false,
     "start_time": "2021-12-24T04:18:52.223023",
     "status": "completed"
    },
    "tags": []
   },
   "source": [
    "# **Left Join**"
   ]
  },
  {
   "cell_type": "code",
   "execution_count": 26,
   "id": "ff298de6",
   "metadata": {
    "execution": {
     "iopub.execute_input": "2021-12-24T04:18:52.403953Z",
     "iopub.status.busy": "2021-12-24T04:18:52.403345Z",
     "iopub.status.idle": "2021-12-24T04:18:52.415430Z",
     "shell.execute_reply": "2021-12-24T04:18:52.414914Z",
     "shell.execute_reply.started": "2021-12-24T04:17:27.293545Z"
    },
    "papermill": {
     "duration": 0.073694,
     "end_time": "2021-12-24T04:18:52.415587",
     "exception": false,
     "start_time": "2021-12-24T04:18:52.341893",
     "status": "completed"
    },
    "tags": []
   },
   "outputs": [
    {
     "name": "stdout",
     "output_type": "stream",
     "text": [
      "1574\n"
     ]
    }
   ],
   "source": [
    "# Merge movies and financials with a left join\n",
    "movies_financials = movies.merge(financials, on='id',how='left')\n",
    "# Count the number of rows in the budget column that are missing\n",
    "number_of_missing_fin = movies_financials['budget'].isnull().sum()\n",
    "\n",
    "# Print the number of movies missing financials\n",
    "print(number_of_missing_fin)"
   ]
  },
  {
   "cell_type": "code",
   "execution_count": 27,
   "id": "0aca3372",
   "metadata": {
    "execution": {
     "iopub.execute_input": "2021-12-24T04:18:52.542454Z",
     "iopub.status.busy": "2021-12-24T04:18:52.540504Z",
     "iopub.status.idle": "2021-12-24T04:18:52.556551Z",
     "shell.execute_reply": "2021-12-24T04:18:52.557362Z",
     "shell.execute_reply.started": "2021-12-24T04:17:27.309273Z"
    },
    "papermill": {
     "duration": 0.081633,
     "end_time": "2021-12-24T04:18:52.557647",
     "exception": false,
     "start_time": "2021-12-24T04:18:52.476014",
     "status": "completed"
    },
    "tags": []
   },
   "outputs": [
    {
     "name": "stdout",
     "output_type": "stream",
     "text": [
      "   movie_id            genre\n",
      "0         5            Crime\n",
      "1         5           Comedy\n",
      "2        11  Science Fiction\n",
      "3        11           Action\n",
      "4        11        Adventure\n",
      "(12160, 2)\n"
     ]
    }
   ],
   "source": [
    "movie_to_genres=pd.read_pickle(r'../input/joiningdatawithpandas/movie_to_genres.p')\n",
    "print(movie_to_genres.head())\n",
    "print(movie_to_genres.shape)"
   ]
  },
  {
   "cell_type": "code",
   "execution_count": 28,
   "id": "2600f65e",
   "metadata": {
    "execution": {
     "iopub.execute_input": "2021-12-24T04:18:52.684417Z",
     "iopub.status.busy": "2021-12-24T04:18:52.683490Z",
     "iopub.status.idle": "2021-12-24T04:18:52.693288Z",
     "shell.execute_reply": "2021-12-24T04:18:52.693770Z",
     "shell.execute_reply.started": "2021-12-24T04:17:27.324437Z"
    },
    "papermill": {
     "duration": 0.074237,
     "end_time": "2021-12-24T04:18:52.693924",
     "exception": false,
     "start_time": "2021-12-24T04:18:52.619687",
     "status": "completed"
    },
    "tags": []
   },
   "outputs": [
    {
     "name": "stdout",
     "output_type": "stream",
     "text": [
      "          id                                              title  popularity  \\\n",
      "4546  211672                                            Minions  875.581305   \n",
      "4343  157336                                       Interstellar  724.247784   \n",
      "1966  293660                                           Deadpool  514.569956   \n",
      "2423  118340                            Guardians of the Galaxy  481.098624   \n",
      "4220   76341                                 Mad Max: Fury Road  434.278564   \n",
      "1867  135397                                     Jurassic World  418.708552   \n",
      "4375      22  Pirates of the Caribbean: The Curse of the Bla...  271.972889   \n",
      "1106  119450                     Dawn of the Planet of the Apes  243.791743   \n",
      "4216  131631              The Hunger Games: Mockingjay - Part 1  206.227151   \n",
      "2614  177572                                         Big Hero 6  203.734590   \n",
      "\n",
      "     release_date  \n",
      "4546   2015-06-17  \n",
      "4343   2014-11-05  \n",
      "1966   2016-02-09  \n",
      "2423   2014-07-30  \n",
      "4220   2015-05-13  \n",
      "1867   2015-06-09  \n",
      "4375   2003-07-09  \n",
      "1106   2014-06-26  \n",
      "4216   2014-11-18  \n",
      "2614   2014-10-24  \n"
     ]
    }
   ],
   "source": [
    "#Get top 10 most popular movies\n",
    "pop_gen=movies.sort_values('popularity',ascending=False)\n",
    "#print(pop_gen.head(10))\n",
    "pop_movies=pop_gen.iloc[0:10,:]\n",
    "print(pop_movies)"
   ]
  },
  {
   "cell_type": "markdown",
   "id": "82eeebac",
   "metadata": {
    "papermill": {
     "duration": 0.060315,
     "end_time": "2021-12-24T04:18:52.814273",
     "exception": false,
     "start_time": "2021-12-24T04:18:52.753958",
     "status": "completed"
    },
    "tags": []
   },
   "source": [
    "# **Right join**"
   ]
  },
  {
   "cell_type": "code",
   "execution_count": 29,
   "id": "0329514f",
   "metadata": {
    "execution": {
     "iopub.execute_input": "2021-12-24T04:18:52.939265Z",
     "iopub.status.busy": "2021-12-24T04:18:52.938287Z",
     "iopub.status.idle": "2021-12-24T04:18:53.194333Z",
     "shell.execute_reply": "2021-12-24T04:18:53.194823Z",
     "shell.execute_reply.started": "2021-12-24T04:17:27.337744Z"
    },
    "papermill": {
     "duration": 0.320615,
     "end_time": "2021-12-24T04:18:53.194997",
     "exception": false,
     "start_time": "2021-12-24T04:18:52.874382",
     "status": "completed"
    },
    "tags": []
   },
   "outputs": [
    {
     "data": {
      "image/png": "[encoded data removed]",
      "text/plain": [
       "<Figure size 432x288 with 1 Axes>"
      ]
     },
     "metadata": {
      "needs_background": "light"
     },
     "output_type": "display_data"
    }
   ],
   "source": [
    "import matplotlib.pyplot as plt\n",
    "# Use right join to merge the movie_to_genres and pop_movies tables\n",
    "genres_movies = movie_to_genres.merge(pop_movies, how='right', \n",
    "                                      left_on='movie_id', \n",
    "                                      right_on='id')\n",
    "\n",
    "# Count the number of genres\n",
    "genre_count = genres_movies.groupby('genre').agg({'id':'count'})\n",
    "\n",
    "# Plot a bar chart of the genre_count\n",
    "genre_count.plot(kind='bar')\n",
    "plt.show()"
   ]
  },
  {
   "cell_type": "code",
   "execution_count": 30,
   "id": "6bc26017",
   "metadata": {
    "execution": {
     "iopub.execute_input": "2021-12-24T04:18:53.320781Z",
     "iopub.status.busy": "2021-12-24T04:18:53.320200Z",
     "iopub.status.idle": "2021-12-24T04:18:53.495276Z",
     "shell.execute_reply": "2021-12-24T04:18:53.494741Z",
     "shell.execute_reply.started": "2021-12-24T04:17:27.621620Z"
    },
    "papermill": {
     "duration": 0.238977,
     "end_time": "2021-12-24T04:18:53.495416",
     "exception": false,
     "start_time": "2021-12-24T04:18:53.256439",
     "status": "completed"
    },
    "tags": []
   },
   "outputs": [
    {
     "name": "stdout",
     "output_type": "stream",
     "text": [
      "    movie_id  cast_id character  gender    id               name\n",
      "7          5       22   Jezebel       1  3122        Sammi Davis\n",
      "8          5       23     Diana       1  3123  Amanda de Cadenet\n",
      "9          5       24    Athena       1  3124     Valeria Golino\n",
      "3          5       25   Elspeth       1  3125            Madonna\n",
      "12         5       26       Eva       1  3126          Ione Skye\n",
      "(106257, 6)\n"
     ]
    }
   ],
   "source": [
    "movie_actors=pd.read_pickle(r'../input/joiningdatawithpandas/casts.p')\n",
    "print(movie_actors.head())\n",
    "print(movie_actors.shape)"
   ]
  },
  {
   "cell_type": "code",
   "execution_count": 31,
   "id": "e2f23b3f",
   "metadata": {
    "execution": {
     "iopub.execute_input": "2021-12-24T04:18:53.621130Z",
     "iopub.status.busy": "2021-12-24T04:18:53.620519Z",
     "iopub.status.idle": "2021-12-24T04:18:53.623435Z",
     "shell.execute_reply": "2021-12-24T04:18:53.623862Z",
     "shell.execute_reply.started": "2021-12-24T04:17:27.784748Z"
    },
    "papermill": {
     "duration": 0.066808,
     "end_time": "2021-12-24T04:18:53.624020",
     "exception": false,
     "start_time": "2021-12-24T04:18:53.557212",
     "status": "completed"
    },
    "tags": []
   },
   "outputs": [],
   "source": [
    "# To find actors who don't act in movies\n",
    "# Iron Man 1 & Iron Man 2\n",
    "#iron_man1_iron_man2_filter=((movie_actors['movie_id']==1726) or (iron_man2_filter=movie_actors['movie_id']==10138))\n",
    "#movie_ids=[1726,10138]\n",
    "#iron_man1_iron_man2_filter=((movie_actors['movie_id']==1726))\n",
    "\n",
    "#print(movie_actors.loc[movie_actors['movie_id'].isin(movie_ids)])\n",
    "#print(movie_actors.loc[movie_actors['movie_id'].isin(movie_ids)])\n",
    "\n",
    "# Merge iron_1_actors to iron_2_actors on id with outer join using suffixes\n",
    "#iron_1_and_2 = iron_1_actors.merge(iron_2_actors,on='id',how='outer',suffixes=['_1','_2'])\n",
    "\n",
    "# Create an index that returns true if name_1 or name_2 are null\n",
    "#m = ((iron_1_and_2['name_1'].isnull()) | (iron_1_and_2['name_2'].isnull()))\n",
    "\n",
    "# Print the first few rows of iron_1_and_2\n",
    "#print(iron_1_and_2[m].head())"
   ]
  },
  {
   "cell_type": "code",
   "execution_count": 32,
   "id": "9dab1bb2",
   "metadata": {
    "execution": {
     "iopub.execute_input": "2021-12-24T04:18:53.750207Z",
     "iopub.status.busy": "2021-12-24T04:18:53.749308Z",
     "iopub.status.idle": "2021-12-24T04:18:53.797926Z",
     "shell.execute_reply": "2021-12-24T04:18:53.798496Z",
     "shell.execute_reply.started": "2021-12-24T04:17:27.790422Z"
    },
    "papermill": {
     "duration": 0.113101,
     "end_time": "2021-12-24T04:18:53.798747",
     "exception": false,
     "start_time": "2021-12-24T04:18:53.685646",
     "status": "completed"
    },
    "tags": []
   },
   "outputs": [
    {
     "name": "stdout",
     "output_type": "stream",
     "text": [
      "      id  department             job               name\n",
      "0  19995     Editing          Editor  Stephen E. Rivkin\n",
      "2  19995       Sound  Sound Designer  Christopher Boyes\n",
      "4  19995  Production         Casting          Mali Finn\n",
      "6  19995   Directing        Director      James Cameron\n",
      "7  19995     Writing          Writer      James Cameron\n",
      "(42502, 4)\n"
     ]
    }
   ],
   "source": [
    "crews=pd.read_pickle(r'../input/joiningdatawithpandas/crews.p')\n",
    "print(crews.head())\n",
    "print(crews.shape)"
   ]
  },
  {
   "cell_type": "markdown",
   "id": "82f989b8",
   "metadata": {
    "papermill": {
     "duration": 0.062391,
     "end_time": "2021-12-24T04:18:53.924554",
     "exception": false,
     "start_time": "2021-12-24T04:18:53.862163",
     "status": "completed"
    },
    "tags": []
   },
   "source": [
    "# To find different movie directors and the people they worked with in the same movie."
   ]
  },
  {
   "cell_type": "code",
   "execution_count": 33,
   "id": "00088043",
   "metadata": {
    "execution": {
     "iopub.execute_input": "2021-12-24T04:18:54.060104Z",
     "iopub.status.busy": "2021-12-24T04:18:54.059046Z",
     "iopub.status.idle": "2021-12-24T04:18:54.386017Z",
     "shell.execute_reply": "2021-12-24T04:18:54.386575Z",
     "shell.execute_reply.started": "2021-12-24T04:17:27.851883Z"
    },
    "papermill": {
     "duration": 0.399812,
     "end_time": "2021-12-24T04:18:54.386765",
     "exception": false,
     "start_time": "2021-12-24T04:18:53.986953",
     "status": "completed"
    },
    "tags": []
   },
   "outputs": [
    {
     "name": "stdout",
     "output_type": "stream",
     "text": [
      "        id department_dir   job_dir       name_dir department_crew  \\\n",
      "156  19995      Directing  Director  James Cameron         Editing   \n",
      "157  19995      Directing  Director  James Cameron           Sound   \n",
      "158  19995      Directing  Director  James Cameron      Production   \n",
      "160  19995      Directing  Director  James Cameron         Writing   \n",
      "161  19995      Directing  Director  James Cameron             Art   \n",
      "\n",
      "           job_crew          name_crew  \n",
      "156          Editor  Stephen E. Rivkin  \n",
      "157  Sound Designer  Christopher Boyes  \n",
      "158         Casting          Mali Finn  \n",
      "160          Writer      James Cameron  \n",
      "161    Set Designer    Richard F. Mays  \n",
      "(40845, 7)\n"
     ]
    }
   ],
   "source": [
    "# Merge the crews table to itself\n",
    "crews_self_merged = crews.merge(crews, on='id', how='inner',\n",
    "                                suffixes=('_dir','_crew'))\n",
    "# Create a boolean index to select the appropriate rows\n",
    "boolean_filter = ((crews_self_merged['job_dir'] == 'Director') & \n",
    "                  (crews_self_merged['job_crew'] != 'Director'))\n",
    "direct_crews = crews_self_merged[boolean_filter]\n",
    "# Print the first few rows of direct_crews\n",
    "print(direct_crews.head())\n",
    "print(direct_crews.shape)"
   ]
  },
  {
   "cell_type": "markdown",
   "id": "dd8fa2e1",
   "metadata": {
    "papermill": {
     "duration": 0.061368,
     "end_time": "2021-12-24T04:18:54.510005",
     "exception": false,
     "start_time": "2021-12-24T04:18:54.448637",
     "status": "completed"
    },
    "tags": []
   },
   "source": [
    "# Do sequels earn more?\n",
    "\n",
    "Lets find it out below"
   ]
  },
  {
   "cell_type": "code",
   "execution_count": 34,
   "id": "76cea6f6",
   "metadata": {
    "execution": {
     "iopub.execute_input": "2021-12-24T04:18:54.637485Z",
     "iopub.status.busy": "2021-12-24T04:18:54.636500Z",
     "iopub.status.idle": "2021-12-24T04:18:54.656779Z",
     "shell.execute_reply": "2021-12-24T04:18:54.655983Z",
     "shell.execute_reply.started": "2021-12-24T04:17:28.327943Z"
    },
    "papermill": {
     "duration": 0.08534,
     "end_time": "2021-12-24T04:18:54.656964",
     "exception": false,
     "start_time": "2021-12-24T04:18:54.571624",
     "status": "completed"
    },
    "tags": []
   },
   "outputs": [
    {
     "name": "stdout",
     "output_type": "stream",
     "text": [
      "      id         title  sequel\n",
      "0  19995        Avatar    <NA>\n",
      "1    862     Toy Story     863\n",
      "2    863   Toy Story 2   10193\n",
      "3    597       Titanic    <NA>\n",
      "4  24428  The Avengers    <NA>\n",
      "(4803, 3)\n"
     ]
    }
   ],
   "source": [
    "sequels=pd.read_pickle(r'../input/joiningdatawithpandas/sequels.p')\n",
    "print(sequels.head())\n",
    "print(sequels.shape)"
   ]
  },
  {
   "cell_type": "code",
   "execution_count": 35,
   "id": "0eab4cb0",
   "metadata": {
    "execution": {
     "iopub.execute_input": "2021-12-24T04:18:54.787229Z",
     "iopub.status.busy": "2021-12-24T04:18:54.786576Z",
     "iopub.status.idle": "2021-12-24T04:18:54.788374Z",
     "shell.execute_reply": "2021-12-24T04:18:54.788894Z",
     "shell.execute_reply.started": "2021-12-24T04:17:28.347715Z"
    },
    "papermill": {
     "duration": 0.068447,
     "end_time": "2021-12-24T04:18:54.789067",
     "exception": false,
     "start_time": "2021-12-24T04:18:54.720620",
     "status": "completed"
    },
    "tags": []
   },
   "outputs": [],
   "source": [
    "# Merge sequels and financials on index id\n",
    "#sequels_fin = sequels.merge(financials, on='id', how='left')\n",
    "\n",
    "# Self merge with suffixes as inner join with left on sequel and right on id\n",
    "#orig_seq = sequels_fin.merge(sequels_fin, how='inner', left_on='sequel', right_on='id', right_index=True,suffixes=('_org','_seq'))\n",
    "\n",
    "# Add calculation to subtract revenue_org from revenue_seq \n",
    "#orig_seq['diff'] = orig_seq['revenue_seq'] - orig_seq['revenue_org']\n",
    "\n",
    "# Select the title_org, title_seq, and diff \n",
    "#titles_diff = orig_seq[['title_org','title_seq','diff']]\n",
    "\n",
    "# Print the first rows of the sorted titles_diff\n",
    "#print(titles_diff.sort_values('diff',ascending=False).head())"
   ]
  },
  {
   "cell_type": "markdown",
   "id": "679a0bc0",
   "metadata": {
    "papermill": {
     "duration": 0.061664,
     "end_time": "2021-12-24T04:18:54.913416",
     "exception": false,
     "start_time": "2021-12-24T04:18:54.851752",
     "status": "completed"
    },
    "tags": []
   },
   "source": [
    "Hence we have seen **Jurassic World** had one of the highest of all, improvement in revenue compared to the original movie"
   ]
  },
  {
   "cell_type": "markdown",
   "id": "17bd2617",
   "metadata": {
    "papermill": {
     "duration": 0.063724,
     "end_time": "2021-12-24T04:18:55.039111",
     "exception": false,
     "start_time": "2021-12-24T04:18:54.975387",
     "status": "completed"
    },
    "tags": []
   },
   "source": []
  },
  {
   "cell_type": "code",
   "execution_count": 36,
   "id": "e035b0c6",
   "metadata": {
    "execution": {
     "iopub.execute_input": "2021-12-24T04:18:55.168029Z",
     "iopub.status.busy": "2021-12-24T04:18:55.167396Z",
     "iopub.status.idle": "2021-12-24T04:18:55.170020Z",
     "shell.execute_reply": "2021-12-24T04:18:55.170433Z",
     "shell.execute_reply.started": "2021-12-24T04:17:28.355085Z"
    },
    "papermill": {
     "duration": 0.068901,
     "end_time": "2021-12-24T04:18:55.170630",
     "exception": false,
     "start_time": "2021-12-24T04:18:55.101729",
     "status": "completed"
    },
    "tags": []
   },
   "outputs": [],
   "source": [
    "# Merge sequels and financials on index id\n",
    "#sequels_fin = sequels.merge(financials, on='id', how='left')\n",
    "\n",
    "# Self merge with suffixes as inner join with left on sequel and right on id\n",
    "#orig_seq = sequels_fin.merge(sequels_fin, how='inner', left_on='sequel',right_on='id', right_index=True,suffixes=('_org','_seq'))\n",
    "\n",
    "# Add calculation to subtract revenue_org from revenue_seq \n",
    "#orig_seq['diff'] = orig_seq['revenue_seq'] - orig_seq['revenue_org']\n",
    "\n",
    "# Select the title_org, title_seq, and diff \n",
    "#titles_diff = orig_seq[['title_org','title_seq','diff']]\n",
    "\n",
    "# Print the first rows of the sorted titles_diff\n",
    "#print(titles_diff.sort_values('diff',ascending=False).head())"
   ]
  },
  {
   "cell_type": "markdown",
   "id": "82a9fb97",
   "metadata": {
    "papermill": {
     "duration": 0.063904,
     "end_time": "2021-12-24T04:18:55.296685",
     "exception": false,
     "start_time": "2021-12-24T04:18:55.232781",
     "status": "completed"
    },
    "tags": []
   },
   "source": [
    "# **Anti joins**"
   ]
  },
  {
   "cell_type": "code",
   "execution_count": 37,
   "id": "ae9629cc",
   "metadata": {
    "execution": {
     "iopub.execute_input": "2021-12-24T04:18:55.423398Z",
     "iopub.status.busy": "2021-12-24T04:18:55.422790Z",
     "iopub.status.idle": "2021-12-24T04:18:55.425598Z",
     "shell.execute_reply": "2021-12-24T04:18:55.426017Z",
     "shell.execute_reply.started": "2021-12-24T04:17:28.364434Z"
    },
    "papermill": {
     "duration": 0.067674,
     "end_time": "2021-12-24T04:18:55.426206",
     "exception": false,
     "start_time": "2021-12-24T04:18:55.358532",
     "status": "completed"
    },
    "tags": []
   },
   "outputs": [],
   "source": [
    "# Anti Joins\n",
    "\n",
    "# Merge employees and top_cust\n",
    "#empl_cust = employees.merge(top_cust, on='srid',how='left', indicator=True)\n",
    "\n",
    "# Select the srid column where _merge is left_only\n",
    "#srid_list = empl_cust.loc[empl_cust['_merge'] == 'left_only', 'srid']\n",
    "\n",
    "# Get employees not working with top customers\n",
    "#print(employees[employees['srid'].isin(srid_list)])"
   ]
  },
  {
   "cell_type": "markdown",
   "id": "f2780239",
   "metadata": {
    "papermill": {
     "duration": 0.061884,
     "end_time": "2021-12-24T04:18:55.550154",
     "exception": false,
     "start_time": "2021-12-24T04:18:55.488270",
     "status": "completed"
    },
    "tags": []
   },
   "source": [
    "# **Concat**"
   ]
  },
  {
   "cell_type": "code",
   "execution_count": 38,
   "id": "1861e27e",
   "metadata": {
    "execution": {
     "iopub.execute_input": "2021-12-24T04:18:55.678630Z",
     "iopub.status.busy": "2021-12-24T04:18:55.677906Z",
     "iopub.status.idle": "2021-12-24T04:18:55.680705Z",
     "shell.execute_reply": "2021-12-24T04:18:55.681154Z",
     "shell.execute_reply.started": "2021-12-24T04:17:28.378088Z"
    },
    "papermill": {
     "duration": 0.069125,
     "end_time": "2021-12-24T04:18:55.681331",
     "exception": false,
     "start_time": "2021-12-24T04:18:55.612206",
     "status": "completed"
    },
    "tags": []
   },
   "outputs": [],
   "source": [
    "# Concatenate the tracks\n",
    "#tracks_from_albums = pd.concat([tracks_master,tracks_ride,tracks_st],sort=True)\n",
    "#print(tracks_from_albums)"
   ]
  },
  {
   "cell_type": "markdown",
   "id": "c1537ee5",
   "metadata": {
    "papermill": {
     "duration": 0.061962,
     "end_time": "2021-12-24T04:18:55.807179",
     "exception": false,
     "start_time": "2021-12-24T04:18:55.745217",
     "status": "completed"
    },
    "tags": []
   },
   "source": []
  },
  {
   "cell_type": "code",
   "execution_count": 39,
   "id": "52b31ac6",
   "metadata": {
    "execution": {
     "iopub.execute_input": "2021-12-24T04:18:55.934904Z",
     "iopub.status.busy": "2021-12-24T04:18:55.934201Z",
     "iopub.status.idle": "2021-12-24T04:18:55.937509Z",
     "shell.execute_reply": "2021-12-24T04:18:55.937072Z",
     "shell.execute_reply.started": "2021-12-24T04:17:28.388964Z"
    },
    "papermill": {
     "duration": 0.068596,
     "end_time": "2021-12-24T04:18:55.937641",
     "exception": false,
     "start_time": "2021-12-24T04:18:55.869045",
     "status": "completed"
    },
    "tags": []
   },
   "outputs": [],
   "source": [
    "# Concatenate the tracks so the index goes from 0 to n-1\n",
    "#tracks_from_albums = pd.concat([tracks_master,tracks_ride,tracks_st],ignore_index=True,sort=True)\n",
    "#print(tracks_from_albums)"
   ]
  },
  {
   "cell_type": "code",
   "execution_count": 40,
   "id": "9a7e6915",
   "metadata": {
    "execution": {
     "iopub.execute_input": "2021-12-24T04:18:56.069156Z",
     "iopub.status.busy": "2021-12-24T04:18:56.068276Z",
     "iopub.status.idle": "2021-12-24T04:18:56.071042Z",
     "shell.execute_reply": "2021-12-24T04:18:56.070499Z",
     "shell.execute_reply.started": "2021-12-24T04:17:28.499953Z"
    },
    "papermill": {
     "duration": 0.070854,
     "end_time": "2021-12-24T04:18:56.071210",
     "exception": false,
     "start_time": "2021-12-24T04:18:56.000356",
     "status": "completed"
    },
    "tags": []
   },
   "outputs": [],
   "source": [
    "# Concatenate the tracks, show only columns names that are in all tables\n",
    "#tracks_from_albums = pd.concat([tracks_master,tracks_ride,tracks_st],join='inner',sort=True)\n",
    "#print(tracks_from_albums)"
   ]
  },
  {
   "cell_type": "code",
   "execution_count": 41,
   "id": "415a3d6e",
   "metadata": {
    "execution": {
     "iopub.execute_input": "2021-12-24T04:18:56.201932Z",
     "iopub.status.busy": "2021-12-24T04:18:56.200891Z",
     "iopub.status.idle": "2021-12-24T04:18:56.203151Z",
     "shell.execute_reply": "2021-12-24T04:18:56.203598Z",
     "shell.execute_reply.started": "2021-12-24T04:17:28.513042Z"
    },
    "papermill": {
     "duration": 0.069262,
     "end_time": "2021-12-24T04:18:56.203755",
     "exception": false,
     "start_time": "2021-12-24T04:18:56.134493",
     "status": "completed"
    },
    "tags": []
   },
   "outputs": [],
   "source": [
    "# Concatenate the tables and add keys\n",
    "#inv_jul_thr_sep = pd.concat([inv_jul,inv_aug,inv_sep], keys=['7Jul','8Aug','9Sep'])\n",
    "\n",
    "# Group the invoices by the index keys and find avg of the total column\n",
    "#avg_inv_by_month = inv_jul_thr_sep.groupby(level=0).agg({'total':'mean'})\n",
    "\n",
    "# Bar plot of avg_inv_by_month\n",
    "#avg_inv_by_month.plot(kind='bar')\n",
    "#plt.show()"
   ]
  },
  {
   "cell_type": "code",
   "execution_count": 42,
   "id": "88bb63c8",
   "metadata": {
    "execution": {
     "iopub.execute_input": "2021-12-24T04:18:56.333989Z",
     "iopub.status.busy": "2021-12-24T04:18:56.333294Z",
     "iopub.status.idle": "2021-12-24T04:18:56.335907Z",
     "shell.execute_reply": "2021-12-24T04:18:56.336404Z",
     "shell.execute_reply.started": "2021-12-24T04:17:28.522909Z"
    },
    "papermill": {
     "duration": 0.069659,
     "end_time": "2021-12-24T04:18:56.336568",
     "exception": false,
     "start_time": "2021-12-24T04:18:56.266909",
     "status": "completed"
    },
    "tags": []
   },
   "outputs": [],
   "source": [
    "# Use the .append() method to combine the tracks tables\n",
    "#metallica_tracks = tracks_ride.append([tracks_master,tracks_st], sort=False)\n",
    "\n",
    "# Merge metallica_tracks and invoice_items\n",
    "#tracks_invoices = metallica_tracks.merge(invoice_items, on='tid')\n",
    "\n",
    "# For each tid and name sum the quantity sold\n",
    "#tracks_sold = tracks_invoices.groupby(['tid','name']).agg({'quantity':'sum'})\n",
    "\n",
    "# Sort in decending order by quantity and print the results\n",
    "#print(tracks_sold.sort_values('quantity',ascending=False))"
   ]
  },
  {
   "cell_type": "markdown",
   "id": "df1b6432",
   "metadata": {
    "papermill": {
     "duration": 0.062967,
     "end_time": "2021-12-24T04:18:56.462258",
     "exception": false,
     "start_time": "2021-12-24T04:18:56.399291",
     "status": "completed"
    },
    "tags": []
   },
   "source": [
    "Correlation between GDP & S&P500"
   ]
  },
  {
   "cell_type": "code",
   "execution_count": 43,
   "id": "0d2fd684",
   "metadata": {
    "execution": {
     "iopub.execute_input": "2021-12-24T04:18:56.590538Z",
     "iopub.status.busy": "2021-12-24T04:18:56.589567Z",
     "iopub.status.idle": "2021-12-24T04:18:56.699637Z",
     "shell.execute_reply": "2021-12-24T04:18:56.698789Z",
     "shell.execute_reply.started": "2021-12-24T04:17:28.533974Z"
    },
    "papermill": {
     "duration": 0.175647,
     "end_time": "2021-12-24T04:18:56.699877",
     "exception": false,
     "start_time": "2021-12-24T04:18:56.524230",
     "status": "completed"
    },
    "tags": []
   },
   "outputs": [
    {
     "name": "stdout",
     "output_type": "stream",
     "text": [
      "   Date  Returns\n",
      "0  2008   -38.49\n",
      "1  2009    23.45\n",
      "2  2010    12.78\n",
      "3  2011     0.00\n",
      "4  2012    13.41\n",
      "(10, 2)\n"
     ]
    }
   ],
   "source": [
    "sp500=pd.read_csv(r'../input/joiningdatawithpandas/SP500.csv')\n",
    "print(sp500.head())\n",
    "print(sp500.shape)"
   ]
  },
  {
   "cell_type": "code",
   "execution_count": 44,
   "id": "de774e27",
   "metadata": {
    "execution": {
     "iopub.execute_input": "2021-12-24T04:18:56.829849Z",
     "iopub.status.busy": "2021-12-24T04:18:56.828887Z",
     "iopub.status.idle": "2021-12-24T04:18:56.841413Z",
     "shell.execute_reply": "2021-12-24T04:18:56.842114Z",
     "shell.execute_reply.started": "2021-12-24T04:17:28.558008Z"
    },
    "papermill": {
     "duration": 0.078827,
     "end_time": "2021-12-24T04:18:56.842335",
     "exception": false,
     "start_time": "2021-12-24T04:18:56.763508",
     "status": "completed"
    },
    "tags": []
   },
   "outputs": [
    {
     "name": "stdout",
     "output_type": "stream",
     "text": [
      "    Country Name Country Code     Indicator Name  Year           GDP\n",
      "0          China          CHN  GDP (current US$)  2010  6.087160e+12\n",
      "1        Germany          DEU  GDP (current US$)  2010  3.417090e+12\n",
      "2          Japan          JPN  GDP (current US$)  2010  5.700100e+12\n",
      "3  United States          USA  GDP (current US$)  2010  1.499210e+13\n",
      "4          China          CHN  GDP (current US$)  2011  7.551500e+12\n",
      "(40, 5)\n"
     ]
    }
   ],
   "source": [
    "gdp=pd.read_csv(r'../input/joiningdatawithpandas/WorldBank_GDP.csv')\n",
    "print(gdp.head())\n",
    "print(gdp.shape)"
   ]
  },
  {
   "cell_type": "markdown",
   "id": "cc7ebe20",
   "metadata": {
    "papermill": {
     "duration": 0.062332,
     "end_time": "2021-12-24T04:18:56.968363",
     "exception": false,
     "start_time": "2021-12-24T04:18:56.906031",
     "status": "completed"
    },
    "tags": []
   },
   "source": []
  },
  {
   "cell_type": "markdown",
   "id": "57a18b4f",
   "metadata": {
    "papermill": {
     "duration": 0.072388,
     "end_time": "2021-12-24T04:18:57.103612",
     "exception": false,
     "start_time": "2021-12-24T04:18:57.031224",
     "status": "completed"
    },
    "tags": []
   },
   "source": [
    "# **Merge order**"
   ]
  },
  {
   "cell_type": "code",
   "execution_count": 45,
   "id": "e5adf886",
   "metadata": {
    "execution": {
     "iopub.execute_input": "2021-12-24T04:18:57.233933Z",
     "iopub.status.busy": "2021-12-24T04:18:57.233340Z",
     "iopub.status.idle": "2021-12-24T04:18:57.247729Z",
     "shell.execute_reply": "2021-12-24T04:18:57.248419Z",
     "shell.execute_reply.started": "2021-12-24T04:17:28.573391Z"
    },
    "papermill": {
     "duration": 0.081086,
     "end_time": "2021-12-24T04:18:57.248655",
     "exception": false,
     "start_time": "2021-12-24T04:18:57.167569",
     "status": "completed"
    },
    "tags": []
   },
   "outputs": [
    {
     "name": "stdout",
     "output_type": "stream",
     "text": [
      "     Country Name Country Code     Indicator Name  Year           GDP    Date  \\\n",
      "0           China          CHN  GDP (current US$)  2010  6.087160e+12  2010.0   \n",
      "1         Germany          DEU  GDP (current US$)  2010  3.417090e+12  2010.0   \n",
      "2           Japan          JPN  GDP (current US$)  2010  5.700100e+12  2010.0   \n",
      "3   United States          USA  GDP (current US$)  2010  1.499210e+13  2010.0   \n",
      "4           China          CHN  GDP (current US$)  2011  7.551500e+12  2011.0   \n",
      "5         Germany          DEU  GDP (current US$)  2011  3.757700e+12  2011.0   \n",
      "6           Japan          JPN  GDP (current US$)  2011  6.157460e+12  2011.0   \n",
      "7   United States          USA  GDP (current US$)  2011  1.554260e+13  2011.0   \n",
      "8           China          CHN  GDP (current US$)  2012  8.532230e+12  2012.0   \n",
      "9         Germany          DEU  GDP (current US$)  2012  3.543980e+12  2012.0   \n",
      "10          Japan          JPN  GDP (current US$)  2012  6.203210e+12  2012.0   \n",
      "11  United States          USA  GDP (current US$)  2012  1.619700e+13  2012.0   \n",
      "12          China          CHN  GDP (current US$)  2012  8.532230e+12  2012.0   \n",
      "13        Germany          DEU  GDP (current US$)  2012  3.543980e+12  2012.0   \n",
      "14          Japan          JPN  GDP (current US$)  2012  6.203210e+12  2012.0   \n",
      "15  United States          USA  GDP (current US$)  2012  1.619700e+13  2012.0   \n",
      "16          China          CHN  GDP (current US$)  2013  9.570410e+12  2013.0   \n",
      "17        Germany          DEU  GDP (current US$)  2013  3.752510e+12  2013.0   \n",
      "18          Japan          JPN  GDP (current US$)  2013  5.155720e+12  2013.0   \n",
      "19  United States          USA  GDP (current US$)  2013  1.678480e+13  2013.0   \n",
      "20          China          CHN  GDP (current US$)  2014  1.043850e+13  2014.0   \n",
      "21        Germany          DEU  GDP (current US$)  2014  3.898730e+12  2014.0   \n",
      "22          Japan          JPN  GDP (current US$)  2014  4.850410e+12  2014.0   \n",
      "23  United States          USA  GDP (current US$)  2014  1.752170e+13  2014.0   \n",
      "24          China          CHN  GDP (current US$)  2015  1.101550e+13  2015.0   \n",
      "25        Germany          DEU  GDP (current US$)  2015  3.381390e+12  2015.0   \n",
      "26          Japan          JPN  GDP (current US$)  2015  4.389480e+12  2015.0   \n",
      "27  United States          USA  GDP (current US$)  2015  1.821930e+13  2015.0   \n",
      "28          China          CHN  GDP (current US$)  2016  1.113790e+13  2016.0   \n",
      "29        Germany          DEU  GDP (current US$)  2016  3.495160e+12  2016.0   \n",
      "30          Japan          JPN  GDP (current US$)  2016  4.926670e+12  2016.0   \n",
      "31  United States          USA  GDP (current US$)  2016  1.870720e+13  2016.0   \n",
      "32          China          CHN  GDP (current US$)  2017  1.214350e+13  2017.0   \n",
      "33        Germany          DEU  GDP (current US$)  2017  3.693200e+12  2017.0   \n",
      "34          Japan          JPN  GDP (current US$)  2017  4.859950e+12  2017.0   \n",
      "35  United States          USA  GDP (current US$)  2017  1.948540e+13  2017.0   \n",
      "36          China          CHN  GDP (current US$)  2018  1.360820e+13     NaN   \n",
      "37        Germany          DEU  GDP (current US$)  2018  3.996760e+12     NaN   \n",
      "38          Japan          JPN  GDP (current US$)  2018  4.970920e+12     NaN   \n",
      "39  United States          USA  GDP (current US$)  2018  2.049410e+13     NaN   \n",
      "\n",
      "    Returns  \n",
      "0     12.78  \n",
      "1     12.78  \n",
      "2     12.78  \n",
      "3     12.78  \n",
      "4      0.00  \n",
      "5      0.00  \n",
      "6      0.00  \n",
      "7      0.00  \n",
      "8     13.41  \n",
      "9     13.41  \n",
      "10    13.41  \n",
      "11    13.41  \n",
      "12    13.41  \n",
      "13    13.41  \n",
      "14    13.41  \n",
      "15    13.41  \n",
      "16    29.60  \n",
      "17    29.60  \n",
      "18    29.60  \n",
      "19    29.60  \n",
      "20    11.39  \n",
      "21    11.39  \n",
      "22    11.39  \n",
      "23    11.39  \n",
      "24    -0.73  \n",
      "25    -0.73  \n",
      "26    -0.73  \n",
      "27    -0.73  \n",
      "28     9.54  \n",
      "29     9.54  \n",
      "30     9.54  \n",
      "31     9.54  \n",
      "32    19.42  \n",
      "33    19.42  \n",
      "34    19.42  \n",
      "35    19.42  \n",
      "36      NaN  \n",
      "37      NaN  \n",
      "38      NaN  \n",
      "39      NaN  \n"
     ]
    }
   ],
   "source": [
    "# Use merge_ordered() to merge gdp and sp500 on year and date\n",
    "gdp_sp500 = pd.merge_ordered(gdp, sp500, left_on='Year', right_on='Date',how='left')\n",
    "\n",
    "# Print gdp_sp500\n",
    "print(gdp_sp500)"
   ]
  },
  {
   "cell_type": "markdown",
   "id": "940c8933",
   "metadata": {
    "papermill": {
     "duration": 0.063133,
     "end_time": "2021-12-24T04:18:57.377991",
     "exception": false,
     "start_time": "2021-12-24T04:18:57.314858",
     "status": "completed"
    },
    "tags": []
   },
   "source": [
    "# **Forward fill with merge order**"
   ]
  },
  {
   "cell_type": "code",
   "execution_count": 46,
   "id": "08775515",
   "metadata": {
    "execution": {
     "iopub.execute_input": "2021-12-24T04:18:57.510251Z",
     "iopub.status.busy": "2021-12-24T04:18:57.509234Z",
     "iopub.status.idle": "2021-12-24T04:18:57.524012Z",
     "shell.execute_reply": "2021-12-24T04:18:57.524536Z",
     "shell.execute_reply.started": "2021-12-24T04:17:28.593469Z"
    },
    "papermill": {
     "duration": 0.083443,
     "end_time": "2021-12-24T04:18:57.524730",
     "exception": false,
     "start_time": "2021-12-24T04:18:57.441287",
     "status": "completed"
    },
    "tags": []
   },
   "outputs": [
    {
     "name": "stdout",
     "output_type": "stream",
     "text": [
      "     Country Name Country Code     Indicator Name  Year           GDP  Date  \\\n",
      "0           China          CHN  GDP (current US$)  2010  6.087160e+12  2010   \n",
      "1         Germany          DEU  GDP (current US$)  2010  3.417090e+12  2010   \n",
      "2           Japan          JPN  GDP (current US$)  2010  5.700100e+12  2010   \n",
      "3   United States          USA  GDP (current US$)  2010  1.499210e+13  2010   \n",
      "4           China          CHN  GDP (current US$)  2011  7.551500e+12  2011   \n",
      "5         Germany          DEU  GDP (current US$)  2011  3.757700e+12  2011   \n",
      "6           Japan          JPN  GDP (current US$)  2011  6.157460e+12  2011   \n",
      "7   United States          USA  GDP (current US$)  2011  1.554260e+13  2011   \n",
      "8           China          CHN  GDP (current US$)  2012  8.532230e+12  2012   \n",
      "9         Germany          DEU  GDP (current US$)  2012  3.543980e+12  2012   \n",
      "10          Japan          JPN  GDP (current US$)  2012  6.203210e+12  2012   \n",
      "11  United States          USA  GDP (current US$)  2012  1.619700e+13  2012   \n",
      "12          China          CHN  GDP (current US$)  2012  8.532230e+12  2012   \n",
      "13        Germany          DEU  GDP (current US$)  2012  3.543980e+12  2012   \n",
      "14          Japan          JPN  GDP (current US$)  2012  6.203210e+12  2012   \n",
      "15  United States          USA  GDP (current US$)  2012  1.619700e+13  2012   \n",
      "16          China          CHN  GDP (current US$)  2013  9.570410e+12  2013   \n",
      "17        Germany          DEU  GDP (current US$)  2013  3.752510e+12  2013   \n",
      "18          Japan          JPN  GDP (current US$)  2013  5.155720e+12  2013   \n",
      "19  United States          USA  GDP (current US$)  2013  1.678480e+13  2013   \n",
      "20          China          CHN  GDP (current US$)  2014  1.043850e+13  2014   \n",
      "21        Germany          DEU  GDP (current US$)  2014  3.898730e+12  2014   \n",
      "22          Japan          JPN  GDP (current US$)  2014  4.850410e+12  2014   \n",
      "23  United States          USA  GDP (current US$)  2014  1.752170e+13  2014   \n",
      "24          China          CHN  GDP (current US$)  2015  1.101550e+13  2015   \n",
      "25        Germany          DEU  GDP (current US$)  2015  3.381390e+12  2015   \n",
      "26          Japan          JPN  GDP (current US$)  2015  4.389480e+12  2015   \n",
      "27  United States          USA  GDP (current US$)  2015  1.821930e+13  2015   \n",
      "28          China          CHN  GDP (current US$)  2016  1.113790e+13  2016   \n",
      "29        Germany          DEU  GDP (current US$)  2016  3.495160e+12  2016   \n",
      "30          Japan          JPN  GDP (current US$)  2016  4.926670e+12  2016   \n",
      "31  United States          USA  GDP (current US$)  2016  1.870720e+13  2016   \n",
      "32          China          CHN  GDP (current US$)  2017  1.214350e+13  2017   \n",
      "33        Germany          DEU  GDP (current US$)  2017  3.693200e+12  2017   \n",
      "34          Japan          JPN  GDP (current US$)  2017  4.859950e+12  2017   \n",
      "35  United States          USA  GDP (current US$)  2017  1.948540e+13  2017   \n",
      "36          China          CHN  GDP (current US$)  2018  1.360820e+13  2017   \n",
      "37        Germany          DEU  GDP (current US$)  2018  3.996760e+12  2017   \n",
      "38          Japan          JPN  GDP (current US$)  2018  4.970920e+12  2017   \n",
      "39  United States          USA  GDP (current US$)  2018  2.049410e+13  2017   \n",
      "\n",
      "    Returns  \n",
      "0     12.78  \n",
      "1     12.78  \n",
      "2     12.78  \n",
      "3     12.78  \n",
      "4      0.00  \n",
      "5      0.00  \n",
      "6      0.00  \n",
      "7      0.00  \n",
      "8     13.41  \n",
      "9     13.41  \n",
      "10    13.41  \n",
      "11    13.41  \n",
      "12    13.41  \n",
      "13    13.41  \n",
      "14    13.41  \n",
      "15    13.41  \n",
      "16    29.60  \n",
      "17    29.60  \n",
      "18    29.60  \n",
      "19    29.60  \n",
      "20    11.39  \n",
      "21    11.39  \n",
      "22    11.39  \n",
      "23    11.39  \n",
      "24    -0.73  \n",
      "25    -0.73  \n",
      "26    -0.73  \n",
      "27    -0.73  \n",
      "28     9.54  \n",
      "29     9.54  \n",
      "30     9.54  \n",
      "31     9.54  \n",
      "32    19.42  \n",
      "33    19.42  \n",
      "34    19.42  \n",
      "35    19.42  \n",
      "36    19.42  \n",
      "37    19.42  \n",
      "38    19.42  \n",
      "39    19.42  \n"
     ]
    }
   ],
   "source": [
    "#Using forward fill for filling missing data\n",
    "# Use merge_ordered() to merge gdp and sp500, interpolate missing value\n",
    "gdp_sp500 = pd.merge_ordered(gdp, sp500, left_on='Year', right_on='Date',how='left',fill_method='ffill')\n",
    "\n",
    "\n",
    "# Print gdp_sp500\n",
    "print (gdp_sp500)"
   ]
  },
  {
   "cell_type": "code",
   "execution_count": 47,
   "id": "bdc32e18",
   "metadata": {
    "execution": {
     "iopub.execute_input": "2021-12-24T04:18:57.656913Z",
     "iopub.status.busy": "2021-12-24T04:18:57.656320Z",
     "iopub.status.idle": "2021-12-24T04:18:57.662364Z",
     "shell.execute_reply": "2021-12-24T04:18:57.661884Z",
     "shell.execute_reply.started": "2021-12-24T04:17:28.612409Z"
    },
    "papermill": {
     "duration": 0.074246,
     "end_time": "2021-12-24T04:18:57.662494",
     "exception": false,
     "start_time": "2021-12-24T04:18:57.588248",
     "status": "completed"
    },
    "tags": []
   },
   "outputs": [
    {
     "name": "stdout",
     "output_type": "stream",
     "text": [
      "              GDP   Returns\n",
      "GDP      1.000000  0.040669\n",
      "Returns  0.040669  1.000000\n"
     ]
    }
   ],
   "source": [
    "# Subset the gdp and returns columns\n",
    "gdp_returns = gdp_sp500[['GDP','Returns']]\n",
    "\n",
    "# Print gdp_returns correlation\n",
    "print (gdp_returns.corr())"
   ]
  },
  {
   "cell_type": "code",
   "execution_count": 48,
   "id": "2c23bd3d",
   "metadata": {
    "execution": {
     "iopub.execute_input": "2021-12-24T04:18:57.792955Z",
     "iopub.status.busy": "2021-12-24T04:18:57.792416Z",
     "iopub.status.idle": "2021-12-24T04:18:57.810441Z",
     "shell.execute_reply": "2021-12-24T04:18:57.810992Z",
     "shell.execute_reply.started": "2021-12-24T04:17:28.631266Z"
    },
    "papermill": {
     "duration": 0.084955,
     "end_time": "2021-12-24T04:18:57.811192",
     "exception": false,
     "start_time": "2021-12-24T04:18:57.726237",
     "status": "completed"
    },
    "tags": []
   },
   "outputs": [
    {
     "name": "stdout",
     "output_type": "stream",
     "text": [
      "  Country Name Country Code     Indicator Name  Year         Pop\n",
      "0        Aruba          ABW  Population, total  2010    101669.0\n",
      "1  Afghanistan          AFG  Population, total  2010  29185507.0\n",
      "2       Angola          AGO  Population, total  2010  23356246.0\n",
      "3      Albania          ALB  Population, total  2010   2913021.0\n",
      "4      Andorra          AND  Population, total  2010     84449.0\n",
      "(2640, 5)\n"
     ]
    }
   ],
   "source": [
    "pop=pd.read_csv(r'../input/joiningdatawithpandas/WorldBank_POP.csv')\n",
    "print(pop.head())\n",
    "print(pop.shape)"
   ]
  },
  {
   "cell_type": "code",
   "execution_count": 49,
   "id": "58daadee",
   "metadata": {
    "execution": {
     "iopub.execute_input": "2021-12-24T04:18:57.944351Z",
     "iopub.status.busy": "2021-12-24T04:18:57.943701Z",
     "iopub.status.idle": "2021-12-24T04:18:57.960516Z",
     "shell.execute_reply": "2021-12-24T04:18:57.961034Z",
     "shell.execute_reply.started": "2021-12-24T04:17:28.660322Z"
    },
    "papermill": {
     "duration": 0.084922,
     "end_time": "2021-12-24T04:18:57.961239",
     "exception": false,
     "start_time": "2021-12-24T04:18:57.876317",
     "status": "completed"
    },
    "tags": []
   },
   "outputs": [
    {
     "name": "stdout",
     "output_type": "stream",
     "text": [
      "            Country Name Country Code_x   Indicator Name_x  Year  \\\n",
      "0            Afghanistan            NaN                NaN  2010   \n",
      "1                Albania            NaN                NaN  2010   \n",
      "2                Algeria            NaN                NaN  2010   \n",
      "3         American Samoa            NaN                NaN  2010   \n",
      "4                Andorra            NaN                NaN  2010   \n",
      "...                  ...            ...                ...   ...   \n",
      "2643  West Bank and Gaza            USA  GDP (current US$)  2018   \n",
      "2644               World            USA  GDP (current US$)  2018   \n",
      "2645         Yemen, Rep.            USA  GDP (current US$)  2018   \n",
      "2646              Zambia            USA  GDP (current US$)  2018   \n",
      "2647            Zimbabwe            USA  GDP (current US$)  2018   \n",
      "\n",
      "               GDP Country Code_y   Indicator Name_y           Pop  \n",
      "0              NaN            AFG  Population, total  2.918551e+07  \n",
      "1              NaN            ALB  Population, total  2.913021e+06  \n",
      "2              NaN            DZA  Population, total  3.597746e+07  \n",
      "3              NaN            ASM  Population, total  5.607900e+04  \n",
      "4              NaN            AND  Population, total  8.444900e+04  \n",
      "...            ...            ...                ...           ...  \n",
      "2643  2.049410e+13            PSE  Population, total  4.569087e+06  \n",
      "2644  2.049410e+13            WLD  Population, total  7.594270e+09  \n",
      "2645  2.049410e+13            YEM  Population, total  2.849869e+07  \n",
      "2646  2.049410e+13            ZMB  Population, total  1.735182e+07  \n",
      "2647  2.049410e+13            ZWE  Population, total  1.443902e+07  \n",
      "\n",
      "[2648 rows x 8 columns]\n"
     ]
    }
   ],
   "source": [
    "# Merge gdp and pop on date and country with fill and notice rows 2 and 3\n",
    "ctry_date = pd.merge_ordered(gdp,pop, on=['Year','Country Name'] \n",
    "                             ,fill_method='ffill')\n",
    "\n",
    "# Print ctry_date\n",
    "print(ctry_date)"
   ]
  },
  {
   "cell_type": "code",
   "execution_count": 50,
   "id": "6fe356b5",
   "metadata": {
    "execution": {
     "iopub.execute_input": "2021-12-24T04:18:58.100021Z",
     "iopub.status.busy": "2021-12-24T04:18:58.099420Z",
     "iopub.status.idle": "2021-12-24T04:18:58.116825Z",
     "shell.execute_reply": "2021-12-24T04:18:58.117338Z",
     "shell.execute_reply.started": "2021-12-24T04:17:28.683535Z"
    },
    "papermill": {
     "duration": 0.089433,
     "end_time": "2021-12-24T04:18:58.117509",
     "exception": false,
     "start_time": "2021-12-24T04:18:58.028076",
     "status": "completed"
    },
    "tags": []
   },
   "outputs": [
    {
     "name": "stdout",
     "output_type": "stream",
     "text": [
      "     Country Name Country Code_x   Indicator Name_x  Year           GDP  \\\n",
      "0     Afghanistan            NaN                NaN  2010           NaN   \n",
      "1     Afghanistan            NaN                NaN  2011           NaN   \n",
      "2     Afghanistan            NaN                NaN  2012           NaN   \n",
      "3     Afghanistan            NaN                NaN  2012           NaN   \n",
      "4     Afghanistan            NaN                NaN  2013           NaN   \n",
      "...           ...            ...                ...   ...           ...   \n",
      "2643     Zimbabwe            USA  GDP (current US$)  2014  2.049410e+13   \n",
      "2644     Zimbabwe            USA  GDP (current US$)  2015  2.049410e+13   \n",
      "2645     Zimbabwe            USA  GDP (current US$)  2016  2.049410e+13   \n",
      "2646     Zimbabwe            USA  GDP (current US$)  2017  2.049410e+13   \n",
      "2647     Zimbabwe            USA  GDP (current US$)  2018  2.049410e+13   \n",
      "\n",
      "     Country Code_y   Indicator Name_y         Pop  \n",
      "0               AFG  Population, total  29185507.0  \n",
      "1               AFG  Population, total  30117413.0  \n",
      "2               AFG  Population, total  31161376.0  \n",
      "3               AFG  Population, total  31161376.0  \n",
      "4               AFG  Population, total  32269589.0  \n",
      "...             ...                ...         ...  \n",
      "2643            ZWE  Population, total  13586681.0  \n",
      "2644            ZWE  Population, total  13814629.0  \n",
      "2645            ZWE  Population, total  14030390.0  \n",
      "2646            ZWE  Population, total  14236745.0  \n",
      "2647            ZWE  Population, total  14439018.0  \n",
      "\n",
      "[2648 rows x 8 columns]\n"
     ]
    }
   ],
   "source": [
    "# Merge gdp and pop on country and date with fill\n",
    "date_ctry = pd.merge_ordered(gdp,pop, on=['Country Name','Year'] \n",
    "                             ,fill_method='ffill')\n",
    "\n",
    "# Print date_ctry\n",
    "print(date_ctry)"
   ]
  },
  {
   "cell_type": "markdown",
   "id": "6567339c",
   "metadata": {
    "papermill": {
     "duration": 0.067941,
     "end_time": "2021-12-24T04:18:58.251266",
     "exception": false,
     "start_time": "2021-12-24T04:18:58.183325",
     "status": "completed"
    },
    "tags": []
   },
   "source": [
    "# **Merge Asof**"
   ]
  },
  {
   "cell_type": "code",
   "execution_count": 51,
   "id": "20ca32fc",
   "metadata": {
    "execution": {
     "iopub.execute_input": "2021-12-24T04:18:58.387476Z",
     "iopub.status.busy": "2021-12-24T04:18:58.386801Z",
     "iopub.status.idle": "2021-12-24T04:18:58.389550Z",
     "shell.execute_reply": "2021-12-24T04:18:58.389010Z",
     "shell.execute_reply.started": "2021-12-24T04:17:28.707666Z"
    },
    "papermill": {
     "duration": 0.071907,
     "end_time": "2021-12-24T04:18:58.389689",
     "exception": false,
     "start_time": "2021-12-24T04:18:58.317782",
     "status": "completed"
    },
    "tags": []
   },
   "outputs": [],
   "source": [
    "# Use merge_asof() to merge jpm and wells\n",
    "#pm_wells = pd.merge_asof(jpm,wells, on='date_time',suffixes=('','_wells'),direction='nearest')\n",
    "\n",
    "\n",
    "# Use merge_asof() to merge jpm_wells and bac\n",
    "#jpm_wells_bac = pd.merge_asof(jpm_wells,bac,on='date_time',suffixes=('_jpm','_bac'),direction='nearest')\n",
    "\n",
    "\n",
    "# Compute price diff\n",
    "#price_diffs = jpm_wells_bac.diff()\n",
    "#print(price_diffs)\n",
    "\n",
    "# Plot the price diff of the close of jpm, wells and bac only\n",
    "#price_diffs.plot(y=['close_jpm','close_wells','close_bac'])\n",
    "#plt.show()"
   ]
  },
  {
   "cell_type": "code",
   "execution_count": 52,
   "id": "f3f236b3",
   "metadata": {
    "execution": {
     "iopub.execute_input": "2021-12-24T04:18:58.523696Z",
     "iopub.status.busy": "2021-12-24T04:18:58.522973Z",
     "iopub.status.idle": "2021-12-24T04:18:58.525588Z",
     "shell.execute_reply": "2021-12-24T04:18:58.525162Z",
     "shell.execute_reply.started": "2021-12-24T04:17:28.713432Z"
    },
    "papermill": {
     "duration": 0.071263,
     "end_time": "2021-12-24T04:18:58.525854",
     "exception": false,
     "start_time": "2021-12-24T04:18:58.454591",
     "status": "completed"
    },
    "tags": []
   },
   "outputs": [],
   "source": [
    "# Merge gdp and recession on date using merge_asof()\n",
    "#gdp_recession = pd.merge_asof(gdp,recession,on='date')\n",
    "\n",
    "# Create a list based on the row value of gdp_recession['econ_status']\n",
    "#is_recession = ['r' if s=='recession' else 'g' for s in gdp_recession['econ_status']]\n",
    "\n",
    "# Plot a bar chart of gdp_recession\n",
    "#gdp_recession.plot(kind='bar', y='gdp', x='date', color=is_recession, rot=90)\n",
    "#plt.show()"
   ]
  },
  {
   "cell_type": "code",
   "execution_count": null,
   "id": "5c9732a3",
   "metadata": {
    "papermill": {
     "duration": 0.067934,
     "end_time": "2021-12-24T04:18:58.659887",
     "exception": false,
     "start_time": "2021-12-24T04:18:58.591953",
     "status": "completed"
    },
    "tags": []
   },
   "outputs": [],
   "source": []
  },
  {
   "cell_type": "code",
   "execution_count": null,
   "id": "30ba13cb",
   "metadata": {
    "papermill": {
     "duration": 0.064266,
     "end_time": "2021-12-24T04:18:58.788361",
     "exception": false,
     "start_time": "2021-12-24T04:18:58.724095",
     "status": "completed"
    },
    "tags": []
   },
   "outputs": [],
   "source": []
  },
  {
   "cell_type": "code",
   "execution_count": null,
   "id": "48cf8fb3",
   "metadata": {
    "papermill": {
     "duration": 0.063935,
     "end_time": "2021-12-24T04:18:58.916831",
     "exception": false,
     "start_time": "2021-12-24T04:18:58.852896",
     "status": "completed"
    },
    "tags": []
   },
   "outputs": [],
   "source": []
  },
  {
   "cell_type": "code",
   "execution_count": null,
   "id": "efe3c241",
   "metadata": {
    "papermill": {
     "duration": 0.064318,
     "end_time": "2021-12-24T04:18:59.046736",
     "exception": false,
     "start_time": "2021-12-24T04:18:58.982418",
     "status": "completed"
    },
    "tags": []
   },
   "outputs": [],
   "source": []
  },
  {
   "cell_type": "code",
   "execution_count": null,
   "id": "2e091fe3",
   "metadata": {
    "papermill": {
     "duration": 0.067249,
     "end_time": "2021-12-24T04:18:59.180603",
     "exception": false,
     "start_time": "2021-12-24T04:18:59.113354",
     "status": "completed"
    },
    "tags": []
   },
   "outputs": [],
   "source": []
  },
  {
   "cell_type": "code",
   "execution_count": null,
   "id": "6d6e5356",
   "metadata": {
    "papermill": {
     "duration": 0.065043,
     "end_time": "2021-12-24T04:18:59.311155",
     "exception": false,
     "start_time": "2021-12-24T04:18:59.246112",
     "status": "completed"
    },
    "tags": []
   },
   "outputs": [],
   "source": []
  },
  {
   "cell_type": "code",
   "execution_count": null,
   "id": "1a2bd6e7",
   "metadata": {
    "papermill": {
     "duration": 0.06413,
     "end_time": "2021-12-24T04:18:59.440482",
     "exception": false,
     "start_time": "2021-12-24T04:18:59.376352",
     "status": "completed"
    },
    "tags": []
   },
   "outputs": [],
   "source": []
  },
  {
   "cell_type": "code",
   "execution_count": null,
   "id": "cea43c36",
   "metadata": {
    "papermill": {
     "duration": 0.064312,
     "end_time": "2021-12-24T04:18:59.570836",
     "exception": false,
     "start_time": "2021-12-24T04:18:59.506524",
     "status": "completed"
    },
    "tags": []
   },
   "outputs": [],
   "source": []
  },
  {
   "cell_type": "markdown",
   "id": "2545aded",
   "metadata": {
    "papermill": {
     "duration": 0.066692,
     "end_time": "2021-12-24T04:18:59.702473",
     "exception": false,
     "start_time": "2021-12-24T04:18:59.635781",
     "status": "completed"
    },
    "tags": []
   },
   "source": []
  },
  {
   "cell_type": "code",
   "execution_count": null,
   "id": "bc66b079",
   "metadata": {
    "papermill": {
     "duration": 0.064326,
     "end_time": "2021-12-24T04:18:59.831686",
     "exception": false,
     "start_time": "2021-12-24T04:18:59.767360",
     "status": "completed"
    },
    "tags": []
   },
   "outputs": [],
   "source": []
  },
  {
   "cell_type": "code",
   "execution_count": null,
   "id": "f729a7b3",
   "metadata": {
    "papermill": {
     "duration": 0.064142,
     "end_time": "2021-12-24T04:18:59.960416",
     "exception": false,
     "start_time": "2021-12-24T04:18:59.896274",
     "status": "completed"
    },
    "tags": []
   },
   "outputs": [],
   "source": []
  },
  {
   "cell_type": "code",
   "execution_count": null,
   "id": "577065dd",
   "metadata": {
    "papermill": {
     "duration": 0.071517,
     "end_time": "2021-12-24T04:19:00.096290",
     "exception": false,
     "start_time": "2021-12-24T04:19:00.024773",
     "status": "completed"
    },
    "tags": []
   },
   "outputs": [],
   "source": []
  },
  {
   "cell_type": "code",
   "execution_count": null,
   "id": "fdb65420",
   "metadata": {
    "papermill": {
     "duration": 0.065081,
     "end_time": "2021-12-24T04:19:00.243235",
     "exception": false,
     "start_time": "2021-12-24T04:19:00.178154",
     "status": "completed"
    },
    "tags": []
   },
   "outputs": [],
   "source": []
  },
  {
   "cell_type": "code",
   "execution_count": null,
   "id": "ce640026",
   "metadata": {
    "papermill": {
     "duration": 0.06407,
     "end_time": "2021-12-24T04:19:00.373737",
     "exception": false,
     "start_time": "2021-12-24T04:19:00.309667",
     "status": "completed"
    },
    "tags": []
   },
   "outputs": [],
   "source": []
  },
  {
   "cell_type": "code",
   "execution_count": null,
   "id": "286c7d10",
   "metadata": {
    "papermill": {
     "duration": 0.064943,
     "end_time": "2021-12-24T04:19:00.503179",
     "exception": false,
     "start_time": "2021-12-24T04:19:00.438236",
     "status": "completed"
    },
    "tags": []
   },
   "outputs": [],
   "source": []
  },
  {
   "cell_type": "code",
   "execution_count": null,
   "id": "af517ca6",
   "metadata": {
    "papermill": {
     "duration": 0.064397,
     "end_time": "2021-12-24T04:19:00.632294",
     "exception": false,
     "start_time": "2021-12-24T04:19:00.567897",
     "status": "completed"
    },
    "tags": []
   },
   "outputs": [],
   "source": []
  },
  {
   "cell_type": "code",
   "execution_count": null,
   "id": "e34ff21e",
   "metadata": {
    "papermill": {
     "duration": 0.063963,
     "end_time": "2021-12-24T04:19:00.762453",
     "exception": false,
     "start_time": "2021-12-24T04:19:00.698490",
     "status": "completed"
    },
    "tags": []
   },
   "outputs": [],
   "source": []
  },
  {
   "cell_type": "code",
   "execution_count": null,
   "id": "eff3fe4f",
   "metadata": {
    "papermill": {
     "duration": 0.064398,
     "end_time": "2021-12-24T04:19:00.892493",
     "exception": false,
     "start_time": "2021-12-24T04:19:00.828095",
     "status": "completed"
    },
    "tags": []
   },
   "outputs": [],
   "source": []
  },
  {
   "cell_type": "code",
   "execution_count": null,
   "id": "3dd7ee5d",
   "metadata": {
    "papermill": {
     "duration": 0.064141,
     "end_time": "2021-12-24T04:19:01.021135",
     "exception": false,
     "start_time": "2021-12-24T04:19:00.956994",
     "status": "completed"
    },
    "tags": []
   },
   "outputs": [],
   "source": []
  },
  {
   "cell_type": "code",
   "execution_count": null,
   "id": "7f9ccfba",
   "metadata": {
    "papermill": {
     "duration": 0.064032,
     "end_time": "2021-12-24T04:19:01.152138",
     "exception": false,
     "start_time": "2021-12-24T04:19:01.088106",
     "status": "completed"
    },
    "tags": []
   },
   "outputs": [],
   "source": []
  },
  {
   "cell_type": "code",
   "execution_count": null,
   "id": "6fd25474",
   "metadata": {
    "papermill": {
     "duration": 0.063625,
     "end_time": "2021-12-24T04:19:01.279801",
     "exception": false,
     "start_time": "2021-12-24T04:19:01.216176",
     "status": "completed"
    },
    "tags": []
   },
   "outputs": [],
   "source": []
  },
  {
   "cell_type": "code",
   "execution_count": null,
   "id": "217e479d",
   "metadata": {
    "papermill": {
     "duration": 0.063699,
     "end_time": "2021-12-24T04:19:01.407400",
     "exception": false,
     "start_time": "2021-12-24T04:19:01.343701",
     "status": "completed"
    },
    "tags": []
   },
   "outputs": [],
   "source": []
  },
  {
   "cell_type": "code",
   "execution_count": null,
   "id": "86eb0046",
   "metadata": {
    "papermill": {
     "duration": 0.063791,
     "end_time": "2021-12-24T04:19:01.535118",
     "exception": false,
     "start_time": "2021-12-24T04:19:01.471327",
     "status": "completed"
    },
    "tags": []
   },
   "outputs": [],
   "source": []
  },
  {
   "cell_type": "code",
   "execution_count": null,
   "id": "35761adb",
   "metadata": {
    "papermill": {
     "duration": 0.06568,
     "end_time": "2021-12-24T04:19:01.664714",
     "exception": false,
     "start_time": "2021-12-24T04:19:01.599034",
     "status": "completed"
    },
    "tags": []
   },
   "outputs": [],
   "source": []
  },
  {
   "cell_type": "code",
   "execution_count": null,
   "id": "28202383",
   "metadata": {
    "papermill": {
     "duration": 0.065271,
     "end_time": "2021-12-24T04:19:01.794140",
     "exception": false,
     "start_time": "2021-12-24T04:19:01.728869",
     "status": "completed"
    },
    "tags": []
   },
   "outputs": [],
   "source": []
  },
  {
   "cell_type": "code",
   "execution_count": null,
   "id": "75bed2a4",
   "metadata": {
    "papermill": {
     "duration": 0.065651,
     "end_time": "2021-12-24T04:19:01.925451",
     "exception": false,
     "start_time": "2021-12-24T04:19:01.859800",
     "status": "completed"
    },
    "tags": []
   },
   "outputs": [],
   "source": []
  },
  {
   "cell_type": "code",
   "execution_count": null,
   "id": "2e237f87",
   "metadata": {
    "papermill": {
     "duration": 0.065975,
     "end_time": "2021-12-24T04:19:02.057184",
     "exception": false,
     "start_time": "2021-12-24T04:19:01.991209",
     "status": "completed"
    },
    "tags": []
   },
   "outputs": [],
   "source": []
  },
  {
   "cell_type": "code",
   "execution_count": null,
   "id": "f9210066",
   "metadata": {
    "papermill": {
     "duration": 0.065678,
     "end_time": "2021-12-24T04:19:02.189601",
     "exception": false,
     "start_time": "2021-12-24T04:19:02.123923",
     "status": "completed"
    },
    "tags": []
   },
   "outputs": [],
   "source": []
  },
  {
   "cell_type": "code",
   "execution_count": null,
   "id": "d2c26e5a",
   "metadata": {
    "papermill": {
     "duration": 0.065491,
     "end_time": "2021-12-24T04:19:02.320947",
     "exception": false,
     "start_time": "2021-12-24T04:19:02.255456",
     "status": "completed"
    },
    "tags": []
   },
   "outputs": [],
   "source": []
  },
  {
   "cell_type": "code",
   "execution_count": null,
   "id": "d06f7054",
   "metadata": {
    "papermill": {
     "duration": 0.063737,
     "end_time": "2021-12-24T04:19:02.448772",
     "exception": false,
     "start_time": "2021-12-24T04:19:02.385035",
     "status": "completed"
    },
    "tags": []
   },
   "outputs": [],
   "source": []
  },
  {
   "cell_type": "code",
   "execution_count": 53,
   "id": "f86c1e50",
   "metadata": {
    "execution": {
     "iopub.execute_input": "2021-12-24T04:19:02.581812Z",
     "iopub.status.busy": "2021-12-24T04:19:02.581218Z",
     "iopub.status.idle": "2021-12-24T04:19:02.588732Z",
     "shell.execute_reply": "2021-12-24T04:19:02.588114Z",
     "shell.execute_reply.started": "2021-12-24T04:17:28.728089Z"
    },
    "papermill": {
     "duration": 0.076186,
     "end_time": "2021-12-24T04:19:02.588872",
     "exception": false,
     "start_time": "2021-12-24T04:19:02.512686",
     "status": "completed"
    },
    "tags": []
   },
   "outputs": [
    {
     "name": "stdout",
     "output_type": "stream",
     "text": [
      "Empty DataFrame\n",
      "Columns: [id, title, popularity, release_date]\n",
      "Index: []\n"
     ]
    }
   ],
   "source": [
    "filter_exp=movies['title'].isin(['Iron'])\n",
    "print(movies[filter_exp])"
   ]
  },
  {
   "cell_type": "code",
   "execution_count": null,
   "id": "dd875cde",
   "metadata": {
    "papermill": {
     "duration": 0.064055,
     "end_time": "2021-12-24T04:19:02.718270",
     "exception": false,
     "start_time": "2021-12-24T04:19:02.654215",
     "status": "completed"
    },
    "tags": []
   },
   "outputs": [],
   "source": []
  },
  {
   "cell_type": "code",
   "execution_count": null,
   "id": "66331d4c",
   "metadata": {
    "papermill": {
     "duration": 0.064388,
     "end_time": "2021-12-24T04:19:02.847126",
     "exception": false,
     "start_time": "2021-12-24T04:19:02.782738",
     "status": "completed"
    },
    "tags": []
   },
   "outputs": [],
   "source": []
  },
  {
   "cell_type": "code",
   "execution_count": null,
   "id": "0c04587e",
   "metadata": {
    "papermill": {
     "duration": 0.066288,
     "end_time": "2021-12-24T04:19:02.977741",
     "exception": false,
     "start_time": "2021-12-24T04:19:02.911453",
     "status": "completed"
    },
    "tags": []
   },
   "outputs": [],
   "source": []
  },
  {
   "cell_type": "code",
   "execution_count": null,
   "id": "a68b61df",
   "metadata": {
    "papermill": {
     "duration": 0.066886,
     "end_time": "2021-12-24T04:19:03.112147",
     "exception": false,
     "start_time": "2021-12-24T04:19:03.045261",
     "status": "completed"
    },
    "tags": []
   },
   "outputs": [],
   "source": []
  },
  {
   "cell_type": "code",
   "execution_count": null,
   "id": "6f1d5e94",
   "metadata": {
    "papermill": {
     "duration": 0.063978,
     "end_time": "2021-12-24T04:19:03.240686",
     "exception": false,
     "start_time": "2021-12-24T04:19:03.176708",
     "status": "completed"
    },
    "tags": []
   },
   "outputs": [],
   "source": []
  },
  {
   "cell_type": "code",
   "execution_count": null,
   "id": "7ea8bf2f",
   "metadata": {
    "papermill": {
     "duration": 0.063819,
     "end_time": "2021-12-24T04:19:03.368849",
     "exception": false,
     "start_time": "2021-12-24T04:19:03.305030",
     "status": "completed"
    },
    "tags": []
   },
   "outputs": [],
   "source": []
  },
  {
   "cell_type": "code",
   "execution_count": null,
   "id": "ba733c24",
   "metadata": {
    "papermill": {
     "duration": 0.063902,
     "end_time": "2021-12-24T04:19:03.496941",
     "exception": false,
     "start_time": "2021-12-24T04:19:03.433039",
     "status": "completed"
    },
    "tags": []
   },
   "outputs": [],
   "source": []
  },
  {
   "cell_type": "code",
   "execution_count": null,
   "id": "409a1d79",
   "metadata": {
    "papermill": {
     "duration": 0.064109,
     "end_time": "2021-12-24T04:19:03.626516",
     "exception": false,
     "start_time": "2021-12-24T04:19:03.562407",
     "status": "completed"
    },
    "tags": []
   },
   "outputs": [],
   "source": []
  },
  {
   "cell_type": "code",
   "execution_count": null,
   "id": "8bf21e2a",
   "metadata": {
    "papermill": {
     "duration": 0.065237,
     "end_time": "2021-12-24T04:19:03.761332",
     "exception": false,
     "start_time": "2021-12-24T04:19:03.696095",
     "status": "completed"
    },
    "tags": []
   },
   "outputs": [],
   "source": []
  },
  {
   "cell_type": "code",
   "execution_count": null,
   "id": "83c09dee",
   "metadata": {
    "papermill": {
     "duration": 0.064128,
     "end_time": "2021-12-24T04:19:03.892450",
     "exception": false,
     "start_time": "2021-12-24T04:19:03.828322",
     "status": "completed"
    },
    "tags": []
   },
   "outputs": [],
   "source": []
  },
  {
   "cell_type": "code",
   "execution_count": null,
   "id": "1b97a941",
   "metadata": {
    "papermill": {
     "duration": 0.064285,
     "end_time": "2021-12-24T04:19:04.023218",
     "exception": false,
     "start_time": "2021-12-24T04:19:03.958933",
     "status": "completed"
    },
    "tags": []
   },
   "outputs": [],
   "source": []
  }
 ],
 "metadata": {
  "kernelspec": {
   "display_name": "Python 3",
   "language": "python",
   "name": "python3"
  },
  "language_info": {
   "codemirror_mode": {
    "name": "ipython",
    "version": 3
   },
   "file_extension": ".py",
   "mimetype": "text/x-python",
   "name": "python",
   "nbconvert_exporter": "python",
   "pygments_lexer": "ipython3",
   "version": "3.7.12"
  },
  "papermill": {
   "default_parameters": {},
   "duration": 25.714506,
   "end_time": "2021-12-24T04:19:04.698985",
   "environment_variables": {},
   "exception": null,
   "input_path": "__notebook__.ipynb",
   "output_path": "__notebook__.ipynb",
   "parameters": {},
   "start_time": "2021-12-24T04:18:38.984479",
   "version": "2.3.3"
  }
 },
 "nbformat": 4,
 "nbformat_minor": 5
}
